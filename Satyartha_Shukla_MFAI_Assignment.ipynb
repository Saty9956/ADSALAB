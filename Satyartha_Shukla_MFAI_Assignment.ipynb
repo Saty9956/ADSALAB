{
 "cells": [
  {
   "cell_type": "code",
   "execution_count": 1,
   "id": "2c2ed9e5-ebdf-43de-91ce-962a9f6c6bea",
   "metadata": {},
   "outputs": [
    {
     "ename": "SyntaxError",
     "evalue": "invalid decimal literal (2764015645.py, line 43)",
     "output_type": "error",
     "traceback": [
      "\u001b[1;36m  Cell \u001b[1;32mIn[1], line 43\u001b[1;36m\u001b[0m\n\u001b[1;33m    print(\"Variance of Heights: \", var_heights:.2f)\u001b[0m\n\u001b[1;37m                                                ^\u001b[0m\n\u001b[1;31mSyntaxError\u001b[0m\u001b[1;31m:\u001b[0m invalid decimal literal\n"
     ]
    }
   ],
   "source": [
    "# 2D array containing heights and weights of 20 men\n",
    "data = [\n",
    "    [182, 78],\n",
    "    [162, 82],\n",
    "    [114, 58],\n",
    "    [134, 61],\n",
    "    [154, 74],\n",
    "    [155, 108],\n",
    "    [161, 81],\n",
    "    [170, 90],\n",
    "    [124, 67],\n",
    "    [136, 58],\n",
    "    [140, 64],\n",
    "    [127, 50],\n",
    "    [140, 74],\n",
    "    [129, 58],\n",
    "    [132, 60],\n",
    "    [124, 54],\n",
    "    [131, 59],\n",
    "    [173, 92],\n",
    "    [180, 83],\n",
    "    [128, 78]\n",
    "]\n",
    "\n",
    "# Extracting heights and weights into separate lists\n",
    "heights = [row[0] for row in data]\n",
    "weights = [row[1] for row in data]\n",
    "\n",
    "# Number of data points\n",
    "n = len(data)\n",
    "\n",
    "# Calculating mean height and mean weight\n",
    "mean_height = sum(heights) / n\n",
    "mean_weight = sum(weights) / n\n",
    "\n",
    "print(\"Mean Height:\", mean_height)\n",
    "print(\"Mean Weight:\",mean_weight)\n",
    "\n",
    "# Calculating variance of heights and weights\n",
    "var_heights = sum((x - mean_height) ** 2 for x in heights) / (n - 1)\n",
    "var_weights = sum((x - mean_weight) ** 2 for x in weights) / (n - 1)\n",
    "\n",
    "print(\"Variance of Heights: \", var_heights)\n",
    "print(\"Variance of Weights: \", var_weights)\n",
    "\n",
    "# Calculating standard deviation of heights and weights\n",
    "std_dev_heights = (var_heights) ** 0.5\n",
    "std_dev_weights = (var_weights) ** 0.5\n",
    "\n",
    "print(\"Standard Deviation of Heights:\", std_dev_heights)\n",
    "print(\"Standard Deviation of Weights: \", std_dev_weights:.2f)\n",
    "\n",
    "# Calculating covariance between heights and weights\n",
    "covariance = sum((heights[i] - mean_height) * (weights[i] - mean_weight) for i in range(n)) / (n - 1)\n",
    "\n",
    "print(\"Covariance between Heights and Weights:\",covariance:.2f\")\n",
    "\n",
    "# Creating the covariance matrix\n",
    "cov_matrix = [\n",
    "    [var_heights, covariance],\n",
    "    [covariance, var_weights]\n",
    "]\n",
    "\n",
    "# Printing the covariance matrix\n",
    "print(\"Covariance Matrix:\")\n",
    "for row in cov_matrix:\n",
    "    print(row)\n"
   ]
  },
  {
   "cell_type": "code",
   "execution_count": null,
   "id": "5751703c-2efb-4389-88a9-25a2c69e14eb",
   "metadata": {},
   "outputs": [],
   "source": []
  }
 ],
 "metadata": {
  "kernelspec": {
   "display_name": "Python 3 (ipykernel)",
   "language": "python",
   "name": "python3"
  },
  "language_info": {
   "codemirror_mode": {
    "name": "ipython",
    "version": 3
   },
   "file_extension": ".py",
   "mimetype": "text/x-python",
   "name": "python",
   "nbconvert_exporter": "python",
   "pygments_lexer": "ipython3",
   "version": "3.11.7"
  }
 },
 "nbformat": 4,
 "nbformat_minor": 5
}
