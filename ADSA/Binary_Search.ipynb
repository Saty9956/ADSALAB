{
 "cells": [
  {
   "cell_type": "code",
   "execution_count": 14,
   "id": "f521323a-1f45-4663-955e-6082ea600d20",
   "metadata": {},
   "outputs": [
    {
     "name": "stdout",
     "output_type": "stream",
     "text": [
      "True\n"
     ]
    }
   ],
   "source": [
    "def binary_search(a,value):\n",
    "\tif len(a)==0 or (len(a)==1 and a[0]!=value):\n",
    "\t\treturn False\n",
    "\n",
    "\tmid=a[len(a)//2]\n",
    "\tif value==mid: return True \n",
    "\tif value<mid:  return binary_search(a[:len(a)//2],value)\n",
    "\tif value>mid:  return binary_search(a[len(a)//2+1:],value)\n",
    "\n",
    "\n",
    "a=[1,2,3,4,5,6,7,8,9]\n",
    "print(binary_search(a,1))"
   ]
  },
  {
   "cell_type": "code",
   "execution_count": 16,
   "id": "56a0f3fa-d7d9-4937-8295-2cb85a4ea85b",
   "metadata": {},
   "outputs": [
    {
     "name": "stdout",
     "output_type": "stream",
     "text": [
      "False\n"
     ]
    }
   ],
   "source": [
    "print(binary_search(a,10))"
   ]
  },
  {
   "cell_type": "code",
   "execution_count": null,
   "id": "f5fe98c9-cc7b-4010-b202-2fd79e79915a",
   "metadata": {},
   "outputs": [],
   "source": []
  }
 ],
 "metadata": {
  "kernelspec": {
   "display_name": "Python 3 (ipykernel)",
   "language": "python",
   "name": "python3"
  },
  "language_info": {
   "codemirror_mode": {
    "name": "ipython",
    "version": 3
   },
   "file_extension": ".py",
   "mimetype": "text/x-python",
   "name": "python",
   "nbconvert_exporter": "python",
   "pygments_lexer": "ipython3",
   "version": "3.11.7"
  }
 },
 "nbformat": 4,
 "nbformat_minor": 5
}
