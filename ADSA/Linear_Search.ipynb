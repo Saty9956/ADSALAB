{
 "cells": [
  {
   "cell_type": "code",
   "execution_count": 2,
   "id": "6afce5a6-818a-4c8a-9eab-b6b0c7a3b430",
   "metadata": {},
   "outputs": [
    {
     "name": "stdout",
     "output_type": "stream",
     "text": [
      "Found at 5\n"
     ]
    }
   ],
   "source": [
    "pos = -1\n",
    "\n",
    "def search(lst, n):\n",
    "    i = 0\n",
    "    while i < len(lst):\n",
    "        if lst[i] == n:\n",
    "            globals()['pos'] = i\n",
    "            return True\n",
    "        i += 1\n",
    "    return False\n",
    "\n",
    "lst = [5, 8, 4, 6, 9, 2]\n",
    "n = 9\n",
    "\n",
    "if search(lst, n):\n",
    "    print(\"Found at\", pos + 1)\n",
    "else:\n",
    "    print(\"Not Found\")"
   ]
  },
  {
   "cell_type": "code",
   "execution_count": null,
   "id": "8ef0a209-4fb7-47b7-bcdf-670704a56301",
   "metadata": {},
   "outputs": [],
   "source": []
  }
 ],
 "metadata": {
  "kernelspec": {
   "display_name": "Python 3 (ipykernel)",
   "language": "python",
   "name": "python3"
  },
  "language_info": {
   "codemirror_mode": {
    "name": "ipython",
    "version": 3
   },
   "file_extension": ".py",
   "mimetype": "text/x-python",
   "name": "python",
   "nbconvert_exporter": "python",
   "pygments_lexer": "ipython3",
   "version": "3.11.7"
  }
 },
 "nbformat": 4,
 "nbformat_minor": 5
}
