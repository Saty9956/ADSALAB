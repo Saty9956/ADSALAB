{
 "cells": [
  {
   "cell_type": "code",
   "execution_count": 2,
   "id": "dbaf7a43-fbd8-460f-837d-222b477cdbad",
   "metadata": {},
   "outputs": [
    {
     "name": "stdout",
     "output_type": "stream",
     "text": [
      "[2, 3, 8, 6, 7, 5]\n",
      "[2, 3, 8, 6, 7, 5]\n",
      "[2, 3, 5, 6, 7, 8]\n",
      "[2, 3, 5, 6, 7, 8]\n",
      "[2, 3, 5, 6, 7, 8]\n",
      "[2, 3, 5, 6, 7, 8]\n"
     ]
    }
   ],
   "source": [
    "def sort(nums):\n",
    "\n",
    "    for i in range(5):\n",
    "        minpos = i\n",
    "        for j in range(i,6):\n",
    "            if nums[j] < nums[minpos]:\n",
    "                minpos = j\n",
    "\n",
    "\n",
    "        temp = nums[i]\n",
    "        nums[i] = nums[minpos]\n",
    "        nums[minpos] = temp\n",
    "\n",
    "        print(nums)\n",
    "\n",
    "\n",
    "nums = [5, 3, 8, 6, 7, 2]\n",
    "sort(nums)\n",
    "\n",
    "print(nums)"
   ]
  },
  {
   "cell_type": "code",
   "execution_count": null,
   "id": "10844b3e-a2cb-4c0f-a75b-9f1ba1ffa13f",
   "metadata": {},
   "outputs": [],
   "source": []
  }
 ],
 "metadata": {
  "kernelspec": {
   "display_name": "Python 3 (ipykernel)",
   "language": "python",
   "name": "python3"
  },
  "language_info": {
   "codemirror_mode": {
    "name": "ipython",
    "version": 3
   },
   "file_extension": ".py",
   "mimetype": "text/x-python",
   "name": "python",
   "nbconvert_exporter": "python",
   "pygments_lexer": "ipython3",
   "version": "3.11.7"
  }
 },
 "nbformat": 4,
 "nbformat_minor": 5
}
