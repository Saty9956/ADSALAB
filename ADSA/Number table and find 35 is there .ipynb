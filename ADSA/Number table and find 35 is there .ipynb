{
 "cells": [
  {
   "cell_type": "code",
   "execution_count": 2,
   "id": "a3447f9e-c92f-4a7d-ac9d-ba6daa42e8b9",
   "metadata": {},
   "outputs": [
    {
     "name": "stdin",
     "output_type": "stream",
     "text": [
      "Enter a number:  5\n"
     ]
    },
    {
     "name": "stdout",
     "output_type": "stream",
     "text": [
      "[5, 10, 15, 20, 25, 30, 35, 40, 45]\n",
      "35 is present\n"
     ]
    }
   ],
   "source": [
    "#WAP to generate a number table and check if 35 is a part of it or not.\n",
    "a = int(input(\"Enter a number: \"))  \n",
    "z = [0] * 9  \n",
    "\n",
    "for x in range(9):  \n",
    "    z[x] = a * (x + 1)  # Multiply 'a' by (x + 1) and store in z[x]\n",
    "\n",
    "print(z)\n",
    "\n",
    "if 35 in z:\n",
    "    print(\"35 is present\")\n",
    "else:\n",
    "    print(\"35 is not present\")\n",
    "\n"
   ]
  },
  {
   "cell_type": "code",
   "execution_count": null,
   "id": "9a605bbe-d413-45b6-a398-05bf895e7644",
   "metadata": {},
   "outputs": [],
   "source": []
  }
 ],
 "metadata": {
  "kernelspec": {
   "display_name": "Python 3 (ipykernel)",
   "language": "python",
   "name": "python3"
  },
  "language_info": {
   "codemirror_mode": {
    "name": "ipython",
    "version": 3
   },
   "file_extension": ".py",
   "mimetype": "text/x-python",
   "name": "python",
   "nbconvert_exporter": "python",
   "pygments_lexer": "ipython3",
   "version": "3.11.7"
  }
 },
 "nbformat": 4,
 "nbformat_minor": 5
}
