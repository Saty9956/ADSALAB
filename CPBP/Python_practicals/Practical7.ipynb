{
 "cells": [
  {
   "cell_type": "code",
   "execution_count": 2,
   "id": "d1dc6ecf-ff07-45ae-b088-06d7da898bc1",
   "metadata": {},
   "outputs": [
    {
     "name": "stdout",
     "output_type": "stream",
     "text": [
      "<class 'set'>\n",
      "True\n",
      "{'orange', 'apple', 'cherry', 'banana'}\n",
      "{'orange', 'apple', 'papaya', 'mango', 'cherry', 'banana'}\n",
      "{'orange', 'apple', 'papaya2', 'papaya', 'mango', 'cherry', 'mango2', 'banana'}\n",
      "{'orange', 'apple', 'papaya2', 'papaya', 'mango', 'cherry', 'banana'}\n",
      "{'orange', 'apple', 'papaya2', 'papaya', 'mango', 'cherry'}\n"
     ]
    }
   ],
   "source": [
    "# SETS\n",
    "thisset = {\"apple\", \"banana\", \"cherry\"}\n",
    "print(type(thisset))\n",
    "print(\"banana\" in thisset)\n",
    "# Add items in set\n",
    "thisset.add(\"orange\")\n",
    "print(thisset)\n",
    "# Add items from another set into this set\n",
    "tropical = {\"mango\", \"papaya\"}\n",
    "thisset.update(tropical)\n",
    "print(thisset)\n",
    "# Add elements of a list to the set\n",
    "l1 = [\"mango2\", \"papaya2\"]\n",
    "thisset.update(l1)\n",
    "print(thisset)\n",
    "# Remove item\n",
    "thisset.remove(\"mango2\")\n",
    "print(thisset)\n",
    "# Remove item using discard()\n",
    "thisset.discard(\"banana\")\n",
    "print(thisset)"
   ]
  },
  {
   "cell_type": "code",
   "execution_count": 4,
   "id": "841721cc-908a-4d69-ba2b-640ac27ad59a",
   "metadata": {},
   "outputs": [
    {
     "name": "stdout",
     "output_type": "stream",
     "text": [
      "Set1 after adding squares:  {64, 1, 4, 36, 100, 9, 16, 49, 81, 25}\n",
      "Set2 after adding cubes:  {64, 1, 512, 8, 1000, 343, 216, 729, 27, 125}\n",
      "\n",
      "Demonstrating the use of update function: \n",
      "Set1 after update:  {64, 1, 4, 36, 100, 9, 16, 49, 81, 'mango', 25}\n",
      "\n",
      "Demonstrating the use of pop function: \n",
      "64\n",
      "\n",
      "Demonstrating the use of remove function: \n",
      "{1, 4, 36, 100, 9, 16, 49, 81, 25}\n",
      "\n",
      "Demonstrating the use of clear function: \n",
      "set()\n"
     ]
    }
   ],
   "source": [
    "# WAP that creates 2 sets squares and cubes in range 1 to 10. Demonstrate the use of update, pop, remove and clear function\n",
    "set1 = set()\n",
    "set2 = set()\n",
    "for i in range(1, 11):\n",
    "    set1.add(i*i)\n",
    "    set2.add(i*i*i)\n",
    "print(\"Set1 after adding squares: \", set1)\n",
    "print(\"Set2 after adding cubes: \", set2)\n",
    "\n",
    "print(\"\\nDemonstrating the use of update function: \")\n",
    "set3 = {\"mango\"}\n",
    "set1.update(set3)\n",
    "print(\"Set1 after update: \", set1)\n",
    "\n",
    "print(\"\\nDemonstrating the use of pop function: \")\n",
    "print(set1.pop())\n",
    "\n",
    "print(\"\\nDemonstrating the use of remove function: \")\n",
    "set1.remove(\"mango\")\n",
    "print(set1)\n",
    "\n",
    "print(\"\\nDemonstrating the use of clear function: \")\n",
    "set1.clear()\n",
    "print(set1)"
   ]
  },
  {
   "cell_type": "code",
   "execution_count": 6,
   "id": "3a9d8d90-0849-474f-a1e2-6305b9238681",
   "metadata": {},
   "outputs": [
    {
     "name": "stdout",
     "output_type": "stream",
     "text": [
      "Set of even numbers:  {2, 4, 6, 8, 10}\n",
      "Set of composite numbers:  {4, 6, 8, 9, 10, 12, 14, 15, 16, 18, 20}\n",
      "\n",
      "Demonstrating use of all() function: \n",
      "True\n",
      "\n",
      "Removing '2' from set1:  {4, 6, 8, 10}\n",
      "\n",
      "Demonstrating use of issuperset() function: \n",
      "True\n",
      "\n",
      "Demonstrating use of len() function: \n",
      "11\n",
      "\n",
      "Demonstrating use of sum() function: \n",
      "Sum of elements of set1:  28\n"
     ]
    }
   ],
   "source": [
    "# WAP that creates two sets one of even numbers in the range 1 to 10 and the other as all composite numbers in range 1 to 20\n",
    "# Demonstrate the use of all(), issuperset(), len() and sum() on the sets.\n",
    "\n",
    "set1 = {i for i in range(1, 11) if i % 2 == 0 }\n",
    "print(\"Set of even numbers: \",set1)\n",
    "\n",
    "set2 = set()\n",
    "\n",
    "c = 0\n",
    "for i in range(2, 21):\n",
    "    for j in range(2, i):\n",
    "        if i%j ==0:\n",
    "            c+=1\n",
    "    if c!=0:\n",
    "        set2.add(i)\n",
    "    c = 0\n",
    "print(\"Set of composite numbers: \", set2)\n",
    "\n",
    "# all() function returns True if all elements are True, else returns False\n",
    "print(\"\\nDemonstrating use of all() function: \")\n",
    "print(all(set1))\n",
    "\n",
    "set1.remove(2)\n",
    "print(\"\\nRemoving '2' from set1: \", set1)\n",
    "\n",
    "print(\"\\nDemonstrating use of issuperset() function: \")\n",
    "print(set2.issuperset(set1))\n",
    "\n",
    "print(\"\\nDemonstrating use of len() function: \")\n",
    "print(len(set2))\n",
    "\n",
    "print(\"\\nDemonstrating use of sum() function: \")\n",
    "print(\"Sum of elements of set1: \", sum(set1))"
   ]
  },
  {
   "cell_type": "code",
   "execution_count": null,
   "id": "f5d45626-db4b-4ece-b295-a27858d3894e",
   "metadata": {},
   "outputs": [],
   "source": []
  }
 ],
 "metadata": {
  "kernelspec": {
   "display_name": "Python 3 (ipykernel)",
   "language": "python",
   "name": "python3"
  },
  "language_info": {
   "codemirror_mode": {
    "name": "ipython",
    "version": 3
   },
   "file_extension": ".py",
   "mimetype": "text/x-python",
   "name": "python",
   "nbconvert_exporter": "python",
   "pygments_lexer": "ipython3",
   "version": "3.11.7"
  }
 },
 "nbformat": 4,
 "nbformat_minor": 5
}
