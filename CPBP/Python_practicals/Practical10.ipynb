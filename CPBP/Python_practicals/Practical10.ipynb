{
 "cells": [
  {
   "cell_type": "code",
   "execution_count": 8,
   "id": "537f0a2e-6eab-42cc-bb5b-74d8bec0021b",
   "metadata": {},
   "outputs": [
    {
     "name": "stdout",
     "output_type": "stream",
     "text": [
      "First 10 bytes of file1:  b'hello worl'\n",
      "File2 contents:\n",
      "b''\n",
      "File2 contents after copying:\n",
      "b'hello worl'\n"
     ]
    }
   ],
   "source": [
    "# WAP that copies first 10 bytes of a binary file into another\n",
    "with open(\"C:/Users/Satyartha Shukla/Desktop/MTech AI/CPBP/director/file1.txt\", \"rb\") as f:\n",
    "    a = f.read(10)\n",
    "    print(\"First 10 bytes of file1: \", a)\n",
    "\n",
    "with open(\"file2.txt\", \"wb+\") as f2:\n",
    "    print(\"File2 contents:\")\n",
    "    print(f2.read())\n",
    "    f2.seek(0)\n",
    "    t = f2.write(a)\n",
    "    f2.seek(0)\n",
    "    print(\"File2 contents after copying:\")\n",
    "    print(f2.read())\n"
   ]
  },
  {
   "cell_type": "code",
   "execution_count": 19,
   "id": "0301e2ad-5162-4520-ade0-34d1511f265c",
   "metadata": {},
   "outputs": [
    {
     "name": "stdin",
     "output_type": "stream",
     "text": [
      "Enter the file name:  C:/Users/Satyartha Shukla/Desktop/MTech AI/CPBP/director/file1.txt\n",
      "Enter the character to be searched:  t\n"
     ]
    },
    {
     "name": "stdout",
     "output_type": "stream",
     "text": [
      "Count of given character in file:  2\n"
     ]
    }
   ],
   "source": [
    "# WAP that accepts a file name as an input from the user. Open the file and count the number of times a character appears in the file\n",
    "\n",
    "f = input(\"Enter the file name: \")\n",
    "ch = input(\"Enter the character to be searched: \")\n",
    "count = 0\n",
    "with open(f, \"r\") as f1:\n",
    "    for line in f1:\n",
    "        for c in line:\n",
    "            if c == ch:\n",
    "                count+=1\n",
    "print(\"Count of given character in file: \", count)"
   ]
  },
  {
   "cell_type": "code",
   "execution_count": 39,
   "id": "e9287b16-905f-4cf7-b303-f5d3b5706155",
   "metadata": {},
   "outputs": [],
   "source": [
    "# WAP to create a new directroy in the current directory\n",
    "import os\n",
    "os.mkdir(\"new_dir\")"
   ]
  },
  {
   "cell_type": "code",
   "execution_count": 41,
   "id": "41f0038c-f3c8-4ea7-b5c6-174ffaef123e",
   "metadata": {},
   "outputs": [],
   "source": [
    "# WAP that changes curr dur to newly created dir new_dir\n",
    "os.chdir(\"new_dir\")"
   ]
  },
  {
   "cell_type": "code",
   "execution_count": 43,
   "id": "d7da7681-3da1-4397-8cfb-80cb1a1f1aaf",
   "metadata": {},
   "outputs": [
    {
     "ename": "FileNotFoundError",
     "evalue": "[WinError 2] The system cannot find the file specified: 'new_dir'",
     "output_type": "error",
     "traceback": [
      "\u001b[1;31m---------------------------------------------------------------------------\u001b[0m",
      "\u001b[1;31mFileNotFoundError\u001b[0m                         Traceback (most recent call last)",
      "Cell \u001b[1;32mIn[43], line 2\u001b[0m\n\u001b[0;32m      1\u001b[0m \u001b[38;5;66;03m# WAP to delete new_dir\u001b[39;00m\n\u001b[1;32m----> 2\u001b[0m \u001b[43mos\u001b[49m\u001b[38;5;241;43m.\u001b[39;49m\u001b[43mrmdir\u001b[49m\u001b[43m(\u001b[49m\u001b[38;5;124;43m\"\u001b[39;49m\u001b[38;5;124;43mnew_dir\u001b[39;49m\u001b[38;5;124;43m\"\u001b[39;49m\u001b[43m)\u001b[49m\n",
      "\u001b[1;31mFileNotFoundError\u001b[0m: [WinError 2] The system cannot find the file specified: 'new_dir'"
     ]
    }
   ],
   "source": [
    "# WAP to delete new_dir\n",
    "os.rmdir(\"new_dir\")"
   ]
  },
  {
   "cell_type": "code",
   "execution_count": 31,
   "id": "bd877040-8e40-4bbd-9afd-8bf2d84c950e",
   "metadata": {},
   "outputs": [
    {
     "name": "stdout",
     "output_type": "stream",
     "text": [
      "Absolute path of 'file1.txt': C:\\Users\\Satyartha Shukla\\Desktop\\MTech AI\\CPBP\\Practical\\new_dir\\new_dir\\file1.txt\n"
     ]
    }
   ],
   "source": [
    "file_name = \"file1.txt\"  # File name to get the absolute path\n",
    "try:\n",
    "    current_dir = os.getcwd()  # Get the current working directory\n",
    "    abs_path = os.path.join(current_dir, file_name)  # Join path\n",
    "    print(f\"Absolute path of '{file_name}': {abs_path}\")\n",
    "except Exception as e:\n",
    "    print(f\"Error occurred: {e}\")\n"
   ]
  },
  {
   "cell_type": "code",
   "execution_count": null,
   "id": "11c4b878-1b8f-437d-ae87-421098f30882",
   "metadata": {},
   "outputs": [],
   "source": []
  }
 ],
 "metadata": {
  "kernelspec": {
   "display_name": "Python 3 (ipykernel)",
   "language": "python",
   "name": "python3"
  },
  "language_info": {
   "codemirror_mode": {
    "name": "ipython",
    "version": 3
   },
   "file_extension": ".py",
   "mimetype": "text/x-python",
   "name": "python",
   "nbconvert_exporter": "python",
   "pygments_lexer": "ipython3",
   "version": "3.11.7"
  }
 },
 "nbformat": 4,
 "nbformat_minor": 5
}
