{
 "cells": [
  {
   "cell_type": "code",
   "execution_count": 6,
   "id": "e6394506-495b-42b1-92fb-179c48b05ee4",
   "metadata": {},
   "outputs": [
    {
     "name": "stdout",
     "output_type": "stream",
     "text": [
      "Zara\n",
      "7\n",
      "{'Name': 'Zara', 'Age': 8, 'Class': 'First'}\n",
      "{'Name': 'Zara', 'Age': 8, 'Class': 'First', 'School': 'DPS'}\n",
      "{'Age': 8, 'Class': 'First', 'School': 'DPS'}\n",
      "{}\n"
     ]
    },
    {
     "ename": "NameError",
     "evalue": "name 'dict1' is not defined",
     "output_type": "error",
     "traceback": [
      "\u001b[1;31m---------------------------------------------------------------------------\u001b[0m",
      "\u001b[1;31mNameError\u001b[0m                                 Traceback (most recent call last)",
      "Cell \u001b[1;32mIn[6], line 24\u001b[0m\n\u001b[0;32m     22\u001b[0m \u001b[38;5;66;03m# Delete whole dict\u001b[39;00m\n\u001b[0;32m     23\u001b[0m \u001b[38;5;28;01mdel\u001b[39;00m dict1\n\u001b[1;32m---> 24\u001b[0m \u001b[38;5;28mprint\u001b[39m(\u001b[43mdict1\u001b[49m)\n",
      "\u001b[1;31mNameError\u001b[0m: name 'dict1' is not defined"
     ]
    }
   ],
   "source": [
    "# Accessing values in a Dictionary\n",
    "dict1 = {'Name': 'Zara', 'Age': 7, 'Class': 'First'}\n",
    "print(dict1['Name'])\n",
    "print(dict1['Age'])\n",
    "\n",
    "# Updating a dict\n",
    "dict1['Age'] = 8\n",
    "print(dict1)\n",
    "\n",
    "# Add a new entry\n",
    "dict1['School'] = 'DPS'\n",
    "print(dict1)\n",
    "\n",
    "# Delete entries\n",
    "del dict1['Name']\n",
    "print(dict1)\n",
    "\n",
    "# Clear whole dict\n",
    "dict1.clear()\n",
    "print(dict1)\n",
    "\n",
    "# Delete whole dict\n",
    "del dict1\n",
    "print(dict1)"
   ]
  },
  {
   "cell_type": "code",
   "execution_count": 10,
   "id": "8dae9ad5-2226-4c5f-987b-f12693b838d8",
   "metadata": {},
   "outputs": [
    {
     "name": "stdout",
     "output_type": "stream",
     "text": [
      "{'Senior_Citizen': 'No', 'Gender': 'Female', 'Name': 'Zara', 'Age': 10}\n"
     ]
    }
   ],
   "source": [
    "# WAP to merge two dictionaries with a third one\n",
    "a = {'Name': 'Zara', 'Age': 10}\n",
    "b = {'Gender': 'Female'}\n",
    "c = {'Senior_Citizen': 'No'}\n",
    "c.update(b)\n",
    "c.update(a)\n",
    "print(c)"
   ]
  },
  {
   "cell_type": "code",
   "execution_count": 12,
   "id": "788fe41b-11b8-43b5-88a0-e14d36110cc0",
   "metadata": {},
   "outputs": [
    {
     "name": "stdout",
     "output_type": "stream",
     "text": [
      "a   time\n",
      "b   money\n",
      "c   value\n",
      "\n",
      "a\n",
      "b\n",
      "c\n",
      "time\n",
      "money\n",
      "value\n"
     ]
    }
   ],
   "source": [
    "# Iterating through a dictionary\n",
    "dict1 = {\"a\": \"time\", \"b\": \"money\", \"c\": \"value\"}\n",
    "for key, values in dict1.items():\n",
    "    print(key, \" \", values)\n",
    "print()\n",
    "for i in dict1.keys():\n",
    "    print(i)\n",
    "for i in dict1.values():\n",
    "    print(i)"
   ]
  },
  {
   "cell_type": "code",
   "execution_count": 14,
   "id": "b4b7493a-a50d-4228-9fc2-4d5f5f223d6c",
   "metadata": {},
   "outputs": [
    {
     "name": "stdout",
     "output_type": "stream",
     "text": [
      "{'a': 23, 'b': 91038, 'c': 1, 'd': 20, 'e': 55}\n",
      "[1, 20, 23, 55, 91038]\n",
      "{'c': 1, 'd': 20, 'a': 23, 'e': 55, 'b': 91038}\n"
     ]
    }
   ],
   "source": [
    "# Sort dictionary by values\n",
    "dict1 = {\"a\": 23, \"b\": 91038, \"c\": 1, \"d\": 20, \"e\": 55}\n",
    "# print(sorted(dict1, key = dict1.values))\n",
    "print(dict1)\n",
    "ls = sorted(dict1.values())\n",
    "print(ls)\n",
    "dict2 = {}\n",
    "for i in ls:\n",
    "    for j in dict1.keys():\n",
    "        if dict1.get(j) == i:\n",
    "            dict2[j] = i\n",
    "print(dict2)\n"
   ]
  },
  {
   "cell_type": "code",
   "execution_count": 16,
   "id": "ae8d5a0f-6ab3-4a70-8ee6-d4dd3b5027f7",
   "metadata": {},
   "outputs": [
    {
     "name": "stdout",
     "output_type": "stream",
     "text": [
      "2\n",
      "{'a': 1, 'b': 2}\n",
      "{'a': 1, 'b': 2}\n",
      "{'a': 'default', 'b': 'default'}\n",
      "1\n",
      "Not Found\n",
      "dict_items([('a', 1), ('b', 2)])\n",
      "3\n",
      "{'a': 1, 'b': 2, 'c': 3}\n",
      "{'a': 1, 'b': 2, 'c': 3, 'd': 4}\n",
      "dict_values([1, 2, 3, 4])\n"
     ]
    }
   ],
   "source": [
    "# len() - Returns the number of key-value pairs in the dictionary\n",
    "my_dict = {'a': 1, 'b': 2}\n",
    "print(len(my_dict))  # Output: 2\n",
    "\n",
    "# copy() - Creates a shallow copy of the dictionary\n",
    "new_dict = my_dict.copy()\n",
    "print(new_dict)  # Output: {'a': 1, 'b': 2}\n",
    "\n",
    "# Dictionary to String - Convert a dictionary to a string\n",
    "print(str(my_dict))  # Output: \"{'a': 1, 'b': 2}\"\n",
    "\n",
    "# fromkeys() - Creates a new dictionary with keys from an iterable, assigning a default value\n",
    "keys = ['a', 'b']\n",
    "new_dict = dict.fromkeys(keys, 'default')\n",
    "print(new_dict)  # Output: {'a': 'default', 'b': 'default'}\n",
    "\n",
    "# get() - Returns the value of the key, or a default value if not found\n",
    "print(my_dict.get('a'))  # Output: 1\n",
    "print(my_dict.get('c', 'Not Found'))  # Output: 'Not Found'\n",
    "\n",
    "# items() - Returns a view object of the dictionary’s key-value pairs\n",
    "print(my_dict.items())  # Output: dict_items([('a', 1), ('b', 2)])\n",
    "\n",
    "# setdefault() - Returns the value of the key, and if not found, inserts it with a default value\n",
    "print(my_dict.setdefault('c', 3))  # Output: 3\n",
    "print(my_dict)  # Output: {'a': 1, 'b': 2, 'c': 3}\n",
    "\n",
    "# update() - Updates the dictionary with key-value pairs from another dictionary or iterable\n",
    "my_dict.update({'d': 4})\n",
    "print(my_dict)  # Output: {'a': 1, 'b': 2, 'c': 3, 'd': 4}\n",
    "\n",
    "# values() - Returns a view object of the dictionary’s values\n",
    "print(my_dict.values())  # Output: dict_values([1, 2, 3, 4])"
   ]
  },
  {
   "cell_type": "code",
   "execution_count": null,
   "id": "af967da8-8d1f-4a21-9276-43d7f6e1966d",
   "metadata": {},
   "outputs": [],
   "source": []
  }
 ],
 "metadata": {
  "kernelspec": {
   "display_name": "Python 3 (ipykernel)",
   "language": "python",
   "name": "python3"
  },
  "language_info": {
   "codemirror_mode": {
    "name": "ipython",
    "version": 3
   },
   "file_extension": ".py",
   "mimetype": "text/x-python",
   "name": "python",
   "nbconvert_exporter": "python",
   "pygments_lexer": "ipython3",
   "version": "3.11.7"
  }
 },
 "nbformat": 4,
 "nbformat_minor": 5
}
