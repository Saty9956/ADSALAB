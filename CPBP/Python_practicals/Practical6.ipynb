{
 "cells": [
  {
   "cell_type": "code",
   "execution_count": 2,
   "id": "fc90039f-27b9-481a-b297-bc8bfe1a2b4f",
   "metadata": {},
   "outputs": [
    {
     "name": "stdout",
     "output_type": "stream",
     "text": [
      "36\n"
     ]
    }
   ],
   "source": [
    "# Defining the function\n",
    "def square(num):\n",
    "#     Returns the square of the number\n",
    "    return num**2\n",
    "\n",
    "obj = square(6)\n",
    "print(obj)"
   ]
  },
  {
   "cell_type": "code",
   "execution_count": 4,
   "id": "2872ccb0-e6f9-473a-82e6-0818e9607772",
   "metadata": {},
   "outputs": [
    {
     "name": "stdout",
     "output_type": "stream",
     "text": [
      "[1, 4, 9, 16, 25]\n",
      "[1, 4, 9, 16, 25]\n"
     ]
    }
   ],
   "source": [
    "# Pass by Reference and Pass by value\n",
    "\n",
    "def square(item_list):\n",
    "#     Returns the square of the number\n",
    "    squares = []\n",
    "    for i in item_list:\n",
    "        squares.append(i**2)\n",
    "    return squares\n",
    "\n",
    "# Pass by reference\n",
    "num = [1,2,3,4,5]\n",
    "obj = square(num)\n",
    "print(obj)\n",
    "\n",
    "# Pass by value\n",
    "obj = square([1,2,3,4,5])\n",
    "print(obj)"
   ]
  },
  {
   "cell_type": "code",
   "execution_count": 6,
   "id": "a3f61069-a27e-4d78-9909-57c4967203bd",
   "metadata": {},
   "outputs": [
    {
     "name": "stdin",
     "output_type": "stream",
     "text": [
      "Enter num1:  5\n",
      "Enter num1:  2\n"
     ]
    },
    {
     "name": "stdout",
     "output_type": "stream",
     "text": [
      "num1 - num2 =  3\n"
     ]
    }
   ],
   "source": [
    "# WAP that subtracts two numbers using a function\n",
    "def func(a,b):\n",
    "    return a - b\n",
    "a = int(input(\"Enter num1: \"))\n",
    "b =  int(input(\"Enter num1: \"))\n",
    "print(\"num1 - num2 = \", func(a,b))\n",
    "\n"
   ]
  },
  {
   "cell_type": "code",
   "execution_count": 14,
   "id": "6f6b58ac-2126-4529-86b9-10705e9b5092",
   "metadata": {},
   "outputs": [
    {
     "name": "stdin",
     "output_type": "stream",
     "text": [
      "Enter num:  56\n"
     ]
    },
    {
     "name": "stdout",
     "output_type": "stream",
     "text": [
      "Number is Even\n"
     ]
    }
   ],
   "source": [
    "# WAP using functions and return statements to check whether a number is even or odd\n",
    "def func(a):\n",
    "    if (a%2 == 0):\n",
    "        return \"Even\"\n",
    "    else:\n",
    "        return \"Odd\"\n",
    "a = int(input(\"Enter num: \"))\n",
    "print(\"Number is\", func(a))\n"
   ]
  },
  {
   "cell_type": "code",
   "execution_count": 10,
   "id": "0d885b35-252c-45f0-84ab-832f68b53ef8",
   "metadata": {},
   "outputs": [
    {
     "name": "stdin",
     "output_type": "stream",
     "text": [
      "Enter age of person:  48\n",
      "Enter principal amount:  10000\n",
      "Enter time in years:  5\n"
     ]
    },
    {
     "name": "stdout",
     "output_type": "stream",
     "text": [
      "Simple Interest is:  5000.0\n"
     ]
    }
   ],
   "source": [
    "# WAP to calculate simple interest. \n",
    "# Suppose the customer is a Senior citizen and is being offered 12% ROI. For all other customers, ROI is 10%.\n",
    "age = int(input(\"Enter age of person: \"))\n",
    "principal = float(input(\"Enter principal amount: \"))\n",
    "time = int(input(\"Enter time in years: \"))\n",
    "if age>=60:\n",
    "    r=12\n",
    "else:\n",
    "    r=10\n",
    "si = principal*r*time/100\n",
    "print(\"Simple Interest is: \", si)"
   ]
  },
  {
   "cell_type": "code",
   "execution_count": 8,
   "id": "48beae48-5ce0-4049-ac7a-fbb4c09c7ccb",
   "metadata": {},
   "outputs": [
    {
     "data": {
      "text/plain": [
       "64"
      ]
     },
     "execution_count": 8,
     "metadata": {},
     "output_type": "execute_result"
    }
   ],
   "source": [
    "# Program to find certain power of a number using recursion\n",
    "def func1(n,i):\n",
    "    if i == 0:\n",
    "        return 1\n",
    "    else:\n",
    "        return n*func1(n,i-1)\n",
    "func1(2,6)"
   ]
  },
  {
   "cell_type": "code",
   "execution_count": null,
   "id": "fa45bbb0-16b9-4ea3-b00c-f8f46a4f0151",
   "metadata": {},
   "outputs": [],
   "source": []
  }
 ],
 "metadata": {
  "kernelspec": {
   "display_name": "Python 3 (ipykernel)",
   "language": "python",
   "name": "python3"
  },
  "language_info": {
   "codemirror_mode": {
    "name": "ipython",
    "version": 3
   },
   "file_extension": ".py",
   "mimetype": "text/x-python",
   "name": "python",
   "nbconvert_exporter": "python",
   "pygments_lexer": "ipython3",
   "version": "3.11.7"
  }
 },
 "nbformat": 4,
 "nbformat_minor": 5
}
