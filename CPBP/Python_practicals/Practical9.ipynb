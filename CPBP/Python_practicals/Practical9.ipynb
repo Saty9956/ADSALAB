{
 "cells": [
  {
   "cell_type": "code",
   "execution_count": 2,
   "id": "2ff17b82-428a-41a1-ac78-67860f92cad9",
   "metadata": {},
   "outputs": [
    {
     "name": "stdout",
     "output_type": "stream",
     "text": [
      "orl\n"
     ]
    }
   ],
   "source": [
    "a = \"HelloWorld\"\n",
    "# Get the characters from o in World to but not included d in \"World\"\n",
    "print(a[-4:-1])\n"
   ]
  },
  {
   "cell_type": "code",
   "execution_count": 4,
   "id": "a1acdc88-c96e-42ed-bcc3-1c514f265210",
   "metadata": {},
   "outputs": [
    {
     "name": "stdout",
     "output_type": "stream",
     "text": [
      "1 \t 1 \t 1 \t 1\n",
      "2 \t 4 \t 8 \t 16\n",
      "3 \t 9 \t 27 \t 81\n",
      "4 \t 16 \t 64 \t 256\n",
      "5 \t 25 \t 125 \t 625\n",
      "\n",
      "\n",
      "1\t1\t1\t1\n",
      "2\t4\t8\t16\n",
      "3\t9\t27\t81\n",
      "4\t16\t64\t256\n",
      "5\t25\t125\t625\n",
      "\n",
      "\n",
      "i   i**2 i**3  \n",
      "\n",
      "\n",
      "1   1    1     \n",
      "2   4    8     \n",
      "3   9    27    \n",
      "4   16   64    \n",
      "5   25   125   \n"
     ]
    }
   ],
   "source": [
    "# WAP to display powers of number without using formatting characters\n",
    "i=1\n",
    "while i<=5:\n",
    "    print(i**1, \"\\t\", i**2, \"\\t\",  i**3, \"\\t\",  i**4)\n",
    "    i+=1\n",
    "print()\n",
    "print()\n",
    "\n",
    "i=1\n",
    "while i<=5:\n",
    "    print(\"%d\\t%d\\t%d\\t%d\"%(i**1, i**2, i**3,  i**4))\n",
    "    i+=1\n",
    "print()\n",
    "print()\n",
    "\n",
    "i = 1\n",
    "print(\"%-4s%-5s%-6s\"%('i', 'i**2', 'i**3'))\n",
    "print()\n",
    "print()\n",
    "\n",
    "i = 1\n",
    "while i<=5:\n",
    "    print(\"%-4d%-5d%-6d\"%(i, i**2, i**3))\n",
    "    i+=1"
   ]
  },
  {
   "cell_type": "code",
   "execution_count": 6,
   "id": "06233afa-c611-4786-9332-27a2e08a1f04",
   "metadata": {},
   "outputs": [
    {
     "name": "stdout",
     "output_type": "stream",
     "text": [
      "Hello\n",
      "**hello***\n",
      "2\n",
      "True\n",
      "True\n",
      "7\n",
      "-1\n",
      "substring not found\n",
      "5\n",
      "5\n",
      "substring not found\n",
      "True\n",
      "False\n",
      "True\n",
      "True\n",
      "False\n",
      "True\n",
      "False\n",
      "5\n"
     ]
    }
   ],
   "source": [
    "# Built-in string methods and functions\n",
    "s =  \"hello\"\n",
    "print(s.capitalize())\n",
    "\n",
    "s = \"hello\"\n",
    "print(s.center(10, '*'))\n",
    "\n",
    "msg = 'he'\n",
    "str1 = \"hellohello\"\n",
    "print(str1.count(msg, 0, len(str1)))\n",
    "\n",
    "msg = \"she is my best friend\"\n",
    "print(msg.endswith(\"end\", 0, len(msg)))\n",
    "\n",
    "str1 = \"the world is beautiful\"\n",
    "print(str1.startswith(\"th\", 0, len(str1)))\n",
    "\n",
    "msg = \"she is my best my friend\"\n",
    "print(msg.find(\"my\", 0, len(msg)))\n",
    "print(msg.find(\"mine\", 0, len(msg)))\n",
    "\n",
    "try:\n",
    "    print(msg.index(\"mine\", 0, len(msg)))\n",
    "except:\n",
    "    print(\"substring not found\")\n",
    "    \n",
    "# rfind searches from end\n",
    "msg = \"is this your bag?\"\n",
    "print(msg.rfind(\"is\", 0, len(msg)))\n",
    "\n",
    "print(msg.rindex(\"is\"))\n",
    "try:\n",
    "    print(msg.rindex(\"z\"))\n",
    "except:\n",
    "    print(\"substring not found\")\n",
    "\n",
    "msg = \"jamesbond007\"\n",
    "print(msg.isalnum())\n",
    "\n",
    "print(msg.isalpha())\n",
    "msg = \"jamesbond\"\n",
    "print(msg.isalpha())\n",
    "\n",
    "msg = \"007\"\n",
    "print(msg.isdigit())\n",
    "\n",
    "msg = \"Hello\"\n",
    "print(msg.islower())\n",
    "\n",
    "msg = \"   \"\n",
    "print(msg.isspace())\n",
    "\n",
    "msg = \"Hello\"\n",
    "print(msg.isupper())\n",
    "\n",
    "print(len(msg))\n"
   ]
  },
  {
   "cell_type": "code",
   "execution_count": 8,
   "id": "9842b460-6c84-4e10-89bb-6fe202c7b617",
   "metadata": {},
   "outputs": [
    {
     "name": "stdout",
     "output_type": "stream",
     "text": [
      "Hello%%%%%\n",
      "*****Hello\n",
      "     Hello\n",
      "-000001234\n",
      "abcHello  zyx\n",
      "abc  Hellozyx\n",
      "abcHellozyx\n",
      "s\n",
      "Follo Follo Follo\n",
      "Follo Follo Hello\n",
      "The World Is Beautiful\n",
      "HeLLo wORld\n",
      "['abc', ' def', ' ghi', ' jkl']\n"
     ]
    }
   ],
   "source": [
    "s = \"Hello\"\n",
    "print(s.ljust(10,'%'))\n",
    "\n",
    "print(s.rjust(10,'*'))\n",
    "print(s.rjust(10))\n",
    "\n",
    "s = \"-1234\"\n",
    "print(s.zfill(10))\n",
    "\n",
    "s = \"  Hello  \"\n",
    "print('abc' + s.lstrip() + 'zyx')\n",
    "\n",
    "print('abc' + s.rstrip() + 'zyx')\n",
    "\n",
    "print('abc' + s.strip() + 'zyx')\n",
    "\n",
    "s = \"Hello friends\"\n",
    "print(max(s))\n",
    "\n",
    "s = \"Hello Hello Hello\"\n",
    "print(s.replace(\"He\", \"Fo\"))\n",
    "print(s.replace(\"He\", \"Fo\", 2))\n",
    "\n",
    "s = \"The world is beautiful\"\n",
    "print(s.title())\n",
    "\n",
    "s = \"hEllO WorLD\"\n",
    "print(s.swapcase())\n",
    "\n",
    "s = \"abc, def, ghi, jkl\"\n",
    "print(s.split(','))"
   ]
  },
  {
   "cell_type": "code",
   "execution_count": 10,
   "id": "716c0e06-93b2-4eb3-8a50-3b40829f0f76",
   "metadata": {},
   "outputs": [
    {
     "name": "stdout",
     "output_type": "stream",
     "text": [
      "\n",
      "A\n",
      "AB\n",
      "ABC\n",
      "ABCD\n",
      "ABCDE\n",
      "ABCDEF"
     ]
    }
   ],
   "source": [
    "# WAP to print the pattern\n",
    "for i in range(1, 7):\n",
    "    ch = 'A'\n",
    "    print()\n",
    "    for j in range(1, i+1):\n",
    "        print(ch, end=\"\")\n",
    "        ch = chr(ord(ch)+1)"
   ]
  },
  {
   "cell_type": "code",
   "execution_count": 16,
   "id": "498bdd78-706f-4a4b-b764-dda5259338ca",
   "metadata": {},
   "outputs": [
    {
     "name": "stdout",
     "output_type": "stream",
     "text": [
      "Welcome to Python"
     ]
    }
   ],
   "source": [
    "# WAP using while loop to iterate a given string\n",
    "s = \"Welcome to Python\"\n",
    "i = 0\n",
    "while i < len(s):\n",
    "    print(s[i], end=\"\")\n",
    "    i+=1"
   ]
  },
  {
   "cell_type": "code",
   "execution_count": 22,
   "id": "f1559e2e-d007-4355-91a6-70527c2ea2f0",
   "metadata": {},
   "outputs": [
    {
     "name": "stdin",
     "output_type": "stream",
     "text": [
      "Enter the string:  Satya\n",
      "Enter the encryption key:  5\n"
     ]
    },
    {
     "name": "stdout",
     "output_type": "stream",
     "text": [
      "Xfy~f\n"
     ]
    }
   ],
   "source": [
    "# WAP that encrypts a message by adding a key value to every character\n",
    "s = input(\"Enter the string: \")\n",
    "key = int(input(\"Enter the encryption key: \"))\n",
    "new_s = \"\"\n",
    "for i in s:\n",
    "    new_s += chr(ord(i)+key)\n",
    "print(new_s)"
   ]
  },
  {
   "cell_type": "code",
   "execution_count": 24,
   "id": "f5809cac-895f-4f61-b90c-8f3ef7c8f524",
   "metadata": {},
   "outputs": [
    {
     "name": "stdout",
     "output_type": "stream",
     "text": [
      "['Dear Students, I am pleased to inform you that, there is a workshop on Python in college tomorrow.', 'Everyone should come and there will also be a quiz in Python, whosoever wins will win a gold medal.']\n"
     ]
    }
   ],
   "source": [
    "# WAP that uses split function to split a multi-line string \n",
    "s = '''Dear Students, I am pleased to inform you that, there is a workshop on Python in college tomorrow.\n",
    "Everyone should come and there will also be a quiz in Python, whosoever wins will win a gold medal.'''\n",
    "\n",
    "print(s.split('\\n'))"
   ]
  },
  {
   "cell_type": "code",
   "execution_count": 26,
   "id": "c3cda6d2-0c82-43ff-bc1c-3e813c431036",
   "metadata": {},
   "outputs": [
    {
     "name": "stdin",
     "output_type": "stream",
     "text": [
      "Enter the string:  SATYA\n"
     ]
    },
    {
     "name": "stdout",
     "output_type": "stream",
     "text": [
      "STY"
     ]
    }
   ],
   "source": [
    "# WAP that accepts a string from user and re-displays the same string after removing vowels\n",
    "vowels = ['a', 'e', 'i', 'o', 'u', 'A', 'E', 'I', 'O', 'U']\n",
    "s = input(\"Enter the string: \")\n",
    "for i in s:\n",
    "    if i not in vowels:\n",
    "        print(i, end=\"\")\n",
    "\n",
    "pattern = r\"[a-zA-Z]+\\s+\\d+\""
   ]
  },
  {
   "cell_type": "code",
   "execution_count": 30,
   "id": "638d5ddb-1672-4b38-a90e-6b1d491a94a9",
   "metadata": {},
   "outputs": [
    {
     "name": "stdout",
     "output_type": "stream",
     "text": [
      "0 8 (0, 8)\n",
      "9 17 (9, 17)\n",
      "18 27 (18, 27)\n"
     ]
    }
   ],
   "source": [
    "# Patterns that begin with one or more characters followed by space and followed by one or more digits\n",
    "import re\n",
    "matches = re.finditer(pattern, \"LXI 2013,VXI 2015,VDI 20104,Maruti Suzuki Cars available with us\")\n",
    "for match in matches:\n",
    "    print(match.start(), match.end(), match.span())"
   ]
  },
  {
   "cell_type": "code",
   "execution_count": 32,
   "id": "59b3778b-761f-48f4-87d9-7d4bb5685956",
   "metadata": {},
   "outputs": [
    {
     "name": "stdout",
     "output_type": "stream",
     "text": [
      "Good\n"
     ]
    }
   ],
   "source": [
    "# WAP that uses a regex to match strings which start with sequence of digits (atleast 1) followed by a blank and after this add arbitrary characters\n",
    "\n",
    "pat = r\"^\\d+\\s*\"\n",
    "pat = r\"^[0-9]+ .*\"\n",
    "if re.match(pat, \"123 adij\"):\n",
    "    print(\"Good\")"
   ]
  },
  {
   "cell_type": "code",
   "execution_count": null,
   "id": "9333e0d4-7382-4bcc-9d5f-8aa2a6ae589c",
   "metadata": {},
   "outputs": [],
   "source": []
  },
  {
   "cell_type": "code",
   "execution_count": null,
   "id": "aef98e2f-b595-4d22-b828-053a76d23da5",
   "metadata": {},
   "outputs": [],
   "source": []
  }
 ],
 "metadata": {
  "kernelspec": {
   "display_name": "Python 3 (ipykernel)",
   "language": "python",
   "name": "python3"
  },
  "language_info": {
   "codemirror_mode": {
    "name": "ipython",
    "version": 3
   },
   "file_extension": ".py",
   "mimetype": "text/x-python",
   "name": "python",
   "nbconvert_exporter": "python",
   "pygments_lexer": "ipython3",
   "version": "3.11.7"
  }
 },
 "nbformat": 4,
 "nbformat_minor": 5
}
