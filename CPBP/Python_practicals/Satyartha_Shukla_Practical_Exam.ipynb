{
 "cells": [
  {
   "cell_type": "code",
   "execution_count": 61,
   "id": "2e889169-f1b4-41ab-89e8-c0d659bd2e1f",
   "metadata": {},
   "outputs": [
    {
     "name": "stdin",
     "output_type": "stream",
     "text": [
      "Enter a sentence:  I am Satyartha \n"
     ]
    },
    {
     "name": "stdout",
     "output_type": "stream",
     "text": [
      "The longest word is Satyartha with length 9\n"
     ]
    }
   ],
   "source": [
    "def find_longest_word(sentence):\n",
    "    words = sentence.split()\n",
    "\n",
    "    longest_word = \"\"\n",
    "    max_length = 0\n",
    "\n",
    "    for word in words:\n",
    "        if len(word) > max_length:\n",
    "            longest_word = word\n",
    "            max_length = len(word)\n",
    "\n",
    "    return (longest_word, max_length)\n",
    "sentence = input(\"Enter a sentence: \")\n",
    "longest_word, length = find_longest_word(sentence)\n",
    "print(\"The longest word is\", longest_word, \"with length\",length)"
   ]
  },
  {
   "cell_type": "code",
   "execution_count": 67,
   "id": "9ed297b6-5d52-4667-9882-a49d2e1a7982",
   "metadata": {},
   "outputs": [
    {
     "name": "stdout",
     "output_type": "stream",
     "text": [
      "Bob:90\n"
     ]
    }
   ],
   "source": [
    "def find_top_student(students):\n",
    "    score_dict = dict(students)\n",
    "    top_student, max_score = max(score_dict.items(), key=lambda x: x[1])\n",
    "\n",
    "    return f\"{top_student}:{score_dict[top_student]}\"\n",
    "\n",
    "print(find_top_student([(\"Alice\",85),(\"Bob\",90),(\"Charlie\",78)]))"
   ]
  },
  {
   "cell_type": "code",
   "execution_count": 59,
   "id": "f64f5f46-3d32-4e2f-afd8-142e7affed29",
   "metadata": {},
   "outputs": [
    {
     "name": "stdout",
     "output_type": "stream",
     "text": [
      "{'Average Rating': 3.375, 'Most Frequent Rating': {'count': 3, 'rating': 5}, 'Invalid Ratings': [6]}\n"
     ]
    }
   ],
   "source": [
    "def process_feedback(feedback):\n",
    "    total = 0\n",
    "    count = 0\n",
    "    max_rating = {'count': 0, 'rating': None}\n",
    "    invalid_ratings = []\n",
    "\n",
    "    for rating in feedback:\n",
    "        if not isinstance(rating, (int, float)):  \n",
    "            invalid_ratings.append(rating)\n",
    "            continue\n",
    "\n",
    "        if not (1 <= rating <= 5):  \n",
    "            invalid_ratings.append(rating)\n",
    "            continue\n",
    "\n",
    "        total += rating\n",
    "        count += 1\n",
    "\n",
    "        if max_rating['rating'] is None or rating > max_rating['rating']:\n",
    "            max_rating = {'count': 1, 'rating': rating}\n",
    "        elif rating == max_rating['rating']:\n",
    "            max_rating['count'] += 1\n",
    "\n",
    "\n",
    "    average = total / count if count > 0 else 0\n",
    "\n",
    "    return {\n",
    "        \"Average Rating\": average,\n",
    "        \"Most Frequent Rating\": max_rating,\n",
    "        \"Invalid Ratings\": invalid_ratings\n",
    "    }\n",
    "\n",
    "feedback = [5, 4, 3, 2, 5, 1, 5, 2, 6]\n",
    "\n",
    "result = process_feedback(feedback)\n",
    "\n",
    "print(result)\n"
   ]
  },
  {
   "cell_type": "code",
   "execution_count": null,
   "id": "6a90b5fb-81db-4469-aee2-ec422d29f6bb",
   "metadata": {},
   "outputs": [],
   "source": []
  }
 ],
 "metadata": {
  "kernelspec": {
   "display_name": "Python 3 (ipykernel)",
   "language": "python",
   "name": "python3"
  },
  "language_info": {
   "codemirror_mode": {
    "name": "ipython",
    "version": 3
   },
   "file_extension": ".py",
   "mimetype": "text/x-python",
   "name": "python",
   "nbconvert_exporter": "python",
   "pygments_lexer": "ipython3",
   "version": "3.11.7"
  }
 },
 "nbformat": 4,
 "nbformat_minor": 5
}
