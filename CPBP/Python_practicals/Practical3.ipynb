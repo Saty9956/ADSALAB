{
 "cells": [
  {
   "cell_type": "code",
   "execution_count": 6,
   "id": "e3825403-03bb-4084-828a-b23163539e6d",
   "metadata": {},
   "outputs": [
    {
     "name": "stdin",
     "output_type": "stream",
     "text": [
      "Enter the input:  B\n"
     ]
    },
    {
     "name": "stdout",
     "output_type": "stream",
     "text": [
      "\n",
      "*** USING IN-BUILT LIBRARIES ***\n",
      "It's a Char\n",
      "and in upper case\n"
     ]
    }
   ],
   "source": [
    "# WAP to take input from a user and then check whether it is a number or a character. \n",
    "# If it is a char, determine whether it is Upper case or lower case\n",
    "\n",
    "inp = input(\"Enter the input: \")\n",
    "''' USING IN-BUILT LIBRARIES '''\n",
    "print()\n",
    "print(\"*** USING IN-BUILT LIBRARIES ***\")\n",
    "if (inp.isalpha()):\n",
    "    print(\"It's a Char\")\n",
    "    if inp.isupper():\n",
    "        print(\"and in upper case\")\n",
    "    elif inp.islower():\n",
    "        print(\"and in lower case\")\n",
    "    else:\n",
    "        print(\"and has both cases\")\n",
    "elif(inp.isnumeric()):\n",
    "    print(\"It's a number\")\n",
    "else:\n",
    "    print(\"Invalid Input\")\n",
    "    "
   ]
  },
  {
   "cell_type": "code",
   "execution_count": 8,
   "id": "dd6c31d3-e527-4a91-9be2-967e13cae82f",
   "metadata": {},
   "outputs": [
    {
     "name": "stdout",
     "output_type": "stream",
     "text": [
      "\n",
      "*** USING CODE ***\n",
      "It's a Char\n",
      "and in upper case\n"
     ]
    }
   ],
   "source": [
    "''' ALTERNATE APPROACH '''\n",
    "print()\n",
    "print(\"*** USING CODE ***\")\n",
    "l1 = [0,0,0] #It will have 3 elements. First is No. of upper case char, second is no. of lower case chars, third is no. of integers\n",
    "len1 = len(inp)\n",
    "flag = 0\n",
    "for i in inp:\n",
    "    in_ascii = ord(i)\n",
    "    if in_ascii in range(65,91) or in_ascii in range(97, 123):\n",
    "        flag = 1\n",
    "        if in_ascii in range(65,91):\n",
    "            l1[0] +=1\n",
    "        else:\n",
    "            l1[1] +=1\n",
    "    elif in_ascii in range(48, 58):\n",
    "        flag = 2\n",
    "        l1[2] +=1\n",
    "if flag == 1:\n",
    "    if l1[0] == len1:\n",
    "        print(\"It's a Char\")\n",
    "        print(\"and in upper case\")\n",
    "    elif l1[1] == len1:\n",
    "        print(\"It's a Char\")\n",
    "        print(\"and in lower case\")\n",
    "    elif l1[0]+l1[1] == len1:\n",
    "        print(\"It's a Char\")\n",
    "        print(\"and has both cases\")\n",
    "    else:\n",
    "        print(\"Invalid Input\")\n",
    "elif flag == 2:\n",
    "    if l1[2] == len1:\n",
    "        print(\"It's a number\")\n",
    "    else:\n",
    "        print(\"Invalid Input\")\n",
    "else:\n",
    "        print(\"Invalid Input\")"
   ]
  },
  {
   "cell_type": "code",
   "execution_count": 10,
   "id": "31164bf1-fce8-46a9-a4cb-fd050b18af32",
   "metadata": {},
   "outputs": [
    {
     "name": "stdout",
     "output_type": "stream",
     "text": [
      "*** Program that displays the user to enter a number between 1 to 7 and then displays the corr day of the week ***\n"
     ]
    },
    {
     "name": "stdin",
     "output_type": "stream",
     "text": [
      "Enter the number:  1\n"
     ]
    },
    {
     "name": "stdout",
     "output_type": "stream",
     "text": [
      "Monday\n"
     ]
    }
   ],
   "source": [
    "# WAP that displays the user to enter a number between 1 to 7 and then displays the corr day of the week\n",
    "print(\"*** Program that displays the user to enter a number between 1 to 7 and then displays the corr day of the week ***\")\n",
    "num = int(input(\"Enter the number: \"))\n",
    "if num >= 1 and num <= 7:\n",
    "    if num == 1:\n",
    "        print (\"Monday\")\n",
    "    if num == 2:\n",
    "        print (\"Tuesday\")\n",
    "    if num == 3:\n",
    "        print (\"Wednesday\")\n",
    "    if num == 4:\n",
    "        print (\"Thursday\")\n",
    "    if num == 5:\n",
    "        print (\"Friday\")\n",
    "    if num == 6:\n",
    "        print (\"Saturday\")\n",
    "    if num == 7:\n",
    "        print (\"Sunday\")\n",
    "else:\n",
    "    print(\"Incorrect number\")\n"
   ]
  },
  {
   "cell_type": "code",
   "execution_count": 12,
   "id": "febdcdb5-955f-4708-9b7a-bb49c1ac9b1b",
   "metadata": {},
   "outputs": [
    {
     "name": "stdout",
     "output_type": "stream",
     "text": [
      "* \n",
      "* * \n",
      "* * * \n",
      "* * * * \n",
      "* * * * * \n"
     ]
    }
   ],
   "source": [
    "# Nested loop to print pattern\n",
    "for i in range(1,6):\n",
    "    for j in range(1, i+1):\n",
    "        print(\"*\", end = \" \")\n",
    "    print()\n"
   ]
  },
  {
   "cell_type": "code",
   "execution_count": 16,
   "id": "d45ff92a-8250-407c-a347-0c302d222b39",
   "metadata": {},
   "outputs": [
    {
     "name": "stdout",
     "output_type": "stream",
     "text": [
      "Kelly Kelly Kelly Kelly Kelly \n",
      "Jessa Jessa Jessa Jessa Jessa \n",
      "Emma Emma Emma Emma Emma \n"
     ]
    }
   ],
   "source": [
    "# While loop inside for loop\n",
    "names = [\"Kelly\", \"Jessa\", \"Emma\"]\n",
    "for name in names:\n",
    "    count = 0\n",
    "    while(count<5):\n",
    "        print(name, end=' ')\n",
    "        count+=1\n",
    "    print()\n"
   ]
  },
  {
   "cell_type": "code",
   "execution_count": 18,
   "id": "186176d5-a79c-4fc1-b48e-9b9b1fa1d637",
   "metadata": {},
   "outputs": [
    {
     "name": "stdout",
     "output_type": "stream",
     "text": [
      "        1   \n",
      "      2   2   \n",
      "    3   3   3   \n",
      "  4   4   4   4   \n",
      "5   5   5   5   5   \n"
     ]
    }
   ],
   "source": [
    "# WAP to print the pattern\n",
    "for i in range(1, 6):\n",
    "    for k in range(1, 6-i):\n",
    "        print(\" \", end=\" \")\n",
    "    for j in range(1,i+1):\n",
    "        print(i, \" \", end=\" \")\n",
    "\n",
    "    print()"
   ]
  },
  {
   "cell_type": "code",
   "execution_count": 20,
   "id": "e7c9e2c4-a862-4b6e-a91b-4f2bf85a3d3e",
   "metadata": {},
   "outputs": [
    {
     "name": "stdout",
     "output_type": "stream",
     "text": [
      "        1   \n",
      "      2   2   \n",
      "    3   3   3   \n",
      "  4   4   4   4   \n",
      "5   5   5   5   5   \n"
     ]
    }
   ],
   "source": [
    "# Alternate approach\n",
    "n=5\n",
    "for i in range(1, n+1):\n",
    "    for k in range(n, i, -1):\n",
    "        print(\" \", end=\" \")\n",
    "    for j in range(1,i+1):\n",
    "        print(i, \" \", end=\" \")\n",
    "    print()"
   ]
  },
  {
   "cell_type": "code",
   "execution_count": 30,
   "id": "686e52bb-bece-40d2-9d79-f8274284cbee",
   "metadata": {},
   "outputs": [
    {
     "name": "stdout",
     "output_type": "stream",
     "text": [
      "Factorial is:  120\n"
     ]
    }
   ],
   "source": [
    "# Calculating factorial\n",
    "fact = 1\n",
    "for i in range(2,n+1):\n",
    "    fact *= i\n",
    "print(\"Factorial is: \", fact)"
   ]
  },
  {
   "cell_type": "code",
   "execution_count": 26,
   "id": "ba512288-2ed9-48fa-ad58-50d8edd5d112",
   "metadata": {},
   "outputs": [
    {
     "name": "stdin",
     "output_type": "stream",
     "text": [
      "Enter the year (1900-2101) to check whether leap year:  2100\n"
     ]
    },
    {
     "name": "stdout",
     "output_type": "stream",
     "text": [
      "Not leap year\n"
     ]
    }
   ],
   "source": [
    "# WAP that displays all leap years from 1900 to 2101\n",
    "year = int(input(\"Enter the year (1900-2101) to check whether leap year: \"))\n",
    "if year%100 == 0:\n",
    "    if year%400 == 0:\n",
    "        print(\"Leap year\")\n",
    "    else:\n",
    "        print(\"Not leap year\")\n",
    "else:\n",
    "    if year%4 == 0:\n",
    "        print(\"Leap year\")\n",
    "    else:\n",
    "        print(\"Not leap year\")"
   ]
  },
  {
   "cell_type": "code",
   "execution_count": 28,
   "id": "c664e7d5-9ea3-49e7-931f-9d767b3fba05",
   "metadata": {},
   "outputs": [
    {
     "name": "stdin",
     "output_type": "stream",
     "text": [
      "Enter the number:  5\n"
     ]
    },
    {
     "name": "stdout",
     "output_type": "stream",
     "text": [
      "Sum of series is:  2.283333333333333\n"
     ]
    }
   ],
   "source": [
    "# WAP to sum the series numbers - 1 + 1/2 + ... + 1/n using for loop\n",
    "n = int(input(\"Enter the number: \"))\n",
    "s = 0\n",
    "for i in range(1, n+1):\n",
    "    s += (1/i)\n",
    "print(\"Sum of series is: \", s)"
   ]
  },
  {
   "cell_type": "code",
   "execution_count": null,
   "id": "fbba8555-b00d-4301-99f7-fd5eec886411",
   "metadata": {},
   "outputs": [],
   "source": []
  }
 ],
 "metadata": {
  "kernelspec": {
   "display_name": "Python 3 (ipykernel)",
   "language": "python",
   "name": "python3"
  },
  "language_info": {
   "codemirror_mode": {
    "name": "ipython",
    "version": 3
   },
   "file_extension": ".py",
   "mimetype": "text/x-python",
   "name": "python",
   "nbconvert_exporter": "python",
   "pygments_lexer": "ipython3",
   "version": "3.11.7"
  }
 },
 "nbformat": 4,
 "nbformat_minor": 5
}
