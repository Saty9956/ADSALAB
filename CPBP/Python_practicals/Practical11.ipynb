{
 "cells": [
  {
   "cell_type": "code",
   "execution_count": 6,
   "id": "26d33239-2e40-49fe-807a-f60fabffce4d",
   "metadata": {},
   "outputs": [
    {
     "name": "stdin",
     "output_type": "stream",
     "text": [
      "Enter Employee id:  100\n",
      "Enter Employee Name:  Satya\n",
      "Enter Employee Designation:  Secretary\n",
      "Enter Employee Salary:  50000\n",
      "Enter Employee id:  01\n",
      "Enter Employee Name:  CEO\n",
      "Enter Employee Designation:  Shubham\n",
      "Enter Employee Salary:  1500000\n"
     ]
    },
    {
     "name": "stdout",
     "output_type": "stream",
     "text": [
      "List of Employees and their details:  {'100': ['Satya', 'Secretary', '50000']}\n",
      "List of Employees and their details:  {'1': ['CEO', 'Shubham', '1500000']}\n",
      "Total count of employees:  2\n"
     ]
    }
   ],
   "source": [
    "# WAP with class Employee that keeps a track of the nummber of employees in an organisation and also stores their name, designation, and salary details.\n",
    "\n",
    "class Employee:\n",
    "    global count_of_emp\n",
    "    count_of_emp = 0\n",
    "\n",
    "    def __init__(self):\n",
    "        self.emp = {}\n",
    "    def enterEmployeeDetails(self):\n",
    "        i = int(input(\"Enter Employee id: \"))\n",
    "        n = input(\"Enter Employee Name: \")\n",
    "        d = input(\"Enter Employee Designation: \")\n",
    "        s = input(\"Enter Employee Salary: \")\n",
    "        self.emp.update({str(i): [n, d, s]})\n",
    "    def displayCount(self):\n",
    "        print(\"Total count of employees: \", count_of_emp)\n",
    "    def displayDetails(self):\n",
    "        print(\"List of Employees and their details: \", self.emp)\n",
    "\n",
    "e1 = Employee()\n",
    "e1.enterEmployeeDetails()\n",
    "count_of_emp += 1\n",
    "\n",
    "e2 = Employee()\n",
    "e2.enterEmployeeDetails()\n",
    "count_of_emp += 1\n",
    "\n",
    "e1.displayDetails()\n",
    "e2.displayDetails()\n",
    "\n",
    "e2.displayCount()"
   ]
  },
  {
   "cell_type": "code",
   "execution_count": 4,
   "id": "a57d81c0-64d1-426f-8191-76207274df6e",
   "metadata": {},
   "outputs": [
    {
     "name": "stdout",
     "output_type": "stream",
     "text": [
      "\n",
      "Given radius:  7\n",
      "Area of circle:  153.86\n",
      "Circumference of circle:  43.96\n",
      "\n",
      "Given radius:  10\n",
      "Area of circle:  314.0\n",
      "Circumference of circle:  62.800000000000004\n"
     ]
    }
   ],
   "source": [
    "# WAP that has a class Circle. Use a class variable to define the value of constant pi. Use this class variable to calculate area and curcumference of a circle with specified radius.\n",
    "\n",
    "class Circle:\n",
    "    def __init__(self, radius):\n",
    "        self.radius = radius\n",
    "        self.area = 0\n",
    "        self.circum = 0\n",
    "        self.pi = 3.14\n",
    "    def calcArea(self):\n",
    "        self.area = self.pi * self.radius * self.radius\n",
    "    def calcCircum(self):\n",
    "        self.circum = 2 * self.pi * self.radius\n",
    "    def printDetails(self):\n",
    "        print()\n",
    "        print(\"Given radius: \", self.radius)\n",
    "        print(\"Area of circle: \", self.area)\n",
    "        print(\"Circumference of circle: \", self.circum)\n",
    "\n",
    "c1 = Circle(7)\n",
    "c1.calcArea()\n",
    "c1.calcCircum()\n",
    "\n",
    "c2 = Circle(10)\n",
    "c2.calcArea()\n",
    "c2.calcCircum()\n",
    "\n",
    "c1.printDetails()\n",
    "c2.printDetails()"
   ]
  },
  {
   "cell_type": "code",
   "execution_count": 8,
   "id": "226b625b-06dc-4853-8669-ec65079d9bc0",
   "metadata": {},
   "outputs": [
    {
     "name": "stdout",
     "output_type": "stream",
     "text": [
      "\n",
      "***********************************************************\n"
     ]
    },
    {
     "name": "stdin",
     "output_type": "stream",
     "text": [
      "Enter your choice:\n",
      "1. Press 1 to enter a new book into the system.\n",
      "2. Press 2 to display all records.\n",
      "3. Press 3 to search book by title and print its details\n",
      "4. Press 4 to search book by author and print its details\n",
      "5. Press anything else to exit\n",
      "Enter your choice:  1\n"
     ]
    },
    {
     "name": "stdout",
     "output_type": "stream",
     "text": [
      "\n"
     ]
    },
    {
     "name": "stdin",
     "output_type": "stream",
     "text": [
      "Enter title of book:  New Book\n",
      "Enter name of author of book:  Satya\n",
      "Enter price of book:  122\n"
     ]
    },
    {
     "name": "stdout",
     "output_type": "stream",
     "text": [
      "\n",
      "***********************************************************\n"
     ]
    },
    {
     "name": "stdin",
     "output_type": "stream",
     "text": [
      "Enter your choice:\n",
      "1. Press 1 to enter a new book into the system.\n",
      "2. Press 2 to display all records.\n",
      "3. Press 3 to search book by title and print its details\n",
      "4. Press 4 to search book by author and print its details\n",
      "5. Press anything else to exit\n",
      "Enter your choice:  1\n"
     ]
    },
    {
     "name": "stdout",
     "output_type": "stream",
     "text": [
      "\n"
     ]
    },
    {
     "name": "stdin",
     "output_type": "stream",
     "text": [
      "Enter title of book:  New Book 2\n",
      "Enter name of author of book:  Satyaaa\n",
      "Enter price of book:  200\n"
     ]
    },
    {
     "name": "stdout",
     "output_type": "stream",
     "text": [
      "\n",
      "***********************************************************\n"
     ]
    },
    {
     "name": "stdin",
     "output_type": "stream",
     "text": [
      "Enter your choice:\n",
      "1. Press 1 to enter a new book into the system.\n",
      "2. Press 2 to display all records.\n",
      "3. Press 3 to search book by title and print its details\n",
      "4. Press 4 to search book by author and print its details\n",
      "5. Press anything else to exit\n",
      "Enter your choice:  2\n"
     ]
    },
    {
     "name": "stdout",
     "output_type": "stream",
     "text": [
      "-----------\n",
      "Title of book:  New Book\n",
      "Author of book:  Satya\n",
      "Price of book:  122\n",
      "-----------\n",
      "\n",
      "-----------\n",
      "Title of book:  New Book 2\n",
      "Author of book:  Satyaaa\n",
      "Price of book:  200\n",
      "-----------\n",
      "\n",
      "\n",
      "***********************************************************\n"
     ]
    },
    {
     "name": "stdin",
     "output_type": "stream",
     "text": [
      "Enter your choice:\n",
      "1. Press 1 to enter a new book into the system.\n",
      "2. Press 2 to display all records.\n",
      "3. Press 3 to search book by title and print its details\n",
      "4. Press 4 to search book by author and print its details\n",
      "5. Press anything else to exit\n",
      "Enter your choice:  8\n"
     ]
    },
    {
     "name": "stdout",
     "output_type": "stream",
     "text": [
      "Invalid choice! Exiting the program\n"
     ]
    }
   ],
   "source": [
    "# Write a menu driven program that keeps record of books and journals available in a library. class book attributes of constructor - title, author name, price of booktwo functions - read and display() use logic that if you have list of books in a list, then you have a choice for read() and display() for that particular book.\n",
    "\n",
    "class Book():\n",
    "    def __init__(self,):\n",
    "        self.title = \"\"\n",
    "        self.author = \"\"\n",
    "        self.price = \"\"\n",
    "    def read(self):\n",
    "        print()\n",
    "        self.title = input(\"Enter title of book: \")\n",
    "        self.author = input(\"Enter name of author of book: \")\n",
    "        self.price = input(\"Enter price of book: \")\n",
    "    def display(self):\n",
    "        print(\"-----------\")\n",
    "        print(\"Title of book: \", self.title)\n",
    "        print(\"Author of book: \", self.author)\n",
    "        print(\"Price of book: \", self.price)\n",
    "        print(\"-----------\")\n",
    "\n",
    "list_of_books = []\n",
    "while True:\n",
    "    print()\n",
    "    print(\"***********************************************************\")\n",
    "    ch = input(\"Enter your choice:\\n1. Press 1 to enter a new book into the system.\\n2. Press 2 to display all records.\\n3. Press 3 to search book by title and print its details\\n4. Press 4 to search book by author and print its details\\n5. Press anything else to exit\\nEnter your choice: \")\n",
    "    if int(ch) == 1:\n",
    "        obj = Book()\n",
    "        obj.read()\n",
    "        list_of_books.append(obj)\n",
    "    elif int(ch) == 2:\n",
    "        for i in list_of_books:\n",
    "            i.display()\n",
    "            print()\n",
    "    elif int(ch) == 3:\n",
    "        pat = input(\"Enter the search keyword in title: \")\n",
    "        for i in list_of_books:\n",
    "            if pat.lower() in i.title.lower():\n",
    "                i.display()\n",
    "    elif int(ch) == 4:\n",
    "        pat = input(\"Enter the search keyword in author name: \")\n",
    "        for i in list_of_books:\n",
    "            if pat.lower() in i.author.lower():\n",
    "                i.display()\n",
    "    else:\n",
    "        print(\"Invalid choice! Exiting the program\")\n",
    "        break"
   ]
  },
  {
   "cell_type": "code",
   "execution_count": 11,
   "id": "256ed7a5-a096-47cd-982a-3d03377329de",
   "metadata": {},
   "outputs": [
    {
     "name": "stdout",
     "output_type": "stream",
     "text": [
      "X = 1, Y = 2\n",
      "X = 10, Y = 20\n",
      "X_relected = 10, Y_reflected = -20\n"
     ]
    }
   ],
   "source": [
    "# WAP that has a class Point. Define another class Location which has 2 objects - location and destination. \n",
    "# Also define a function in location that prints the refelction of destination on the x-axis.\n",
    "\n",
    "class Point:\n",
    "    def __init__(self, x, y):\n",
    "        self.x = x\n",
    "        self.y = y\n",
    "        self.x_new = 0\n",
    "        self.y_new = 0\n",
    "    def display_point(self):\n",
    "        print(f'X = {self.x}, Y = {self.y}')\n",
    "\n",
    "class Location(Point):\n",
    "    def reflection(self):\n",
    "        self.y_new = self.y * -1\n",
    "        self.x_new = self.x\n",
    "        print(f'X_relected = {self.x_new}, Y_reflected = {self.y_new}')\n",
    "\n",
    "location = Location(1, 2)\n",
    "destination = Location(10, 20)\n",
    "\n",
    "location.display_point()\n",
    "destination.display_point()\n",
    "destination.reflection()"
   ]
  },
  {
   "cell_type": "code",
   "execution_count": 13,
   "id": "42e04ae9-95ac-480e-8552-32426ffa6a3d",
   "metadata": {},
   "outputs": [
    {
     "name": "stdout",
     "output_type": "stream",
     "text": [
      "\n",
      "Menu:\n",
      "1. Add Department\n",
      "2. Add Course\n",
      "3. Add Student\n",
      "4. Enroll Student in a Course\n",
      "5. Display Enrollments\n",
      "6. Exit\n"
     ]
    },
    {
     "name": "stdin",
     "output_type": "stream",
     "text": [
      "Enter your choice:  1\n",
      "Enter department name:  Physics\n"
     ]
    },
    {
     "name": "stdout",
     "output_type": "stream",
     "text": [
      "Department 'Physics' added.\n",
      "\n",
      "Menu:\n",
      "1. Add Department\n",
      "2. Add Course\n",
      "3. Add Student\n",
      "4. Enroll Student in a Course\n",
      "5. Display Enrollments\n",
      "6. Exit\n"
     ]
    },
    {
     "name": "stdin",
     "output_type": "stream",
     "text": [
      "Enter your choice:  2\n",
      "Enter the department for the course:  Physical Science\n"
     ]
    },
    {
     "name": "stdout",
     "output_type": "stream",
     "text": [
      "Department not found.\n",
      "\n",
      "Menu:\n",
      "1. Add Department\n",
      "2. Add Course\n",
      "3. Add Student\n",
      "4. Enroll Student in a Course\n",
      "5. Display Enrollments\n",
      "6. Exit\n"
     ]
    },
    {
     "name": "stdin",
     "output_type": "stream",
     "text": [
      "Enter your choice:  3\n",
      "Enter student name:  Satya\n",
      "Enter student roll number:  205241\n"
     ]
    },
    {
     "name": "stdout",
     "output_type": "stream",
     "text": [
      "Student 'Satya' added.\n",
      "\n",
      "Menu:\n",
      "1. Add Department\n",
      "2. Add Course\n",
      "3. Add Student\n",
      "4. Enroll Student in a Course\n",
      "5. Display Enrollments\n",
      "6. Exit\n"
     ]
    },
    {
     "name": "stdin",
     "output_type": "stream",
     "text": [
      "Enter your choice:  5\n"
     ]
    },
    {
     "name": "stdout",
     "output_type": "stream",
     "text": [
      "\n",
      "Menu:\n",
      "1. Add Department\n",
      "2. Add Course\n",
      "3. Add Student\n",
      "4. Enroll Student in a Course\n",
      "5. Display Enrollments\n",
      "6. Exit\n"
     ]
    },
    {
     "name": "stdin",
     "output_type": "stream",
     "text": [
      "Enter your choice:  5\n"
     ]
    },
    {
     "name": "stdout",
     "output_type": "stream",
     "text": [
      "\n",
      "Menu:\n",
      "1. Add Department\n",
      "2. Add Course\n",
      "3. Add Student\n",
      "4. Enroll Student in a Course\n",
      "5. Display Enrollments\n",
      "6. Exit\n"
     ]
    },
    {
     "name": "stdin",
     "output_type": "stream",
     "text": [
      "Enter your choice:  4\n"
     ]
    },
    {
     "name": "stdout",
     "output_type": "stream",
     "text": [
      "No students or courses available. Add them first.\n",
      "\n",
      "Menu:\n",
      "1. Add Department\n",
      "2. Add Course\n",
      "3. Add Student\n",
      "4. Enroll Student in a Course\n",
      "5. Display Enrollments\n",
      "6. Exit\n"
     ]
    },
    {
     "name": "stdin",
     "output_type": "stream",
     "text": [
      "Enter your choice:  6\n"
     ]
    },
    {
     "name": "stdout",
     "output_type": "stream",
     "text": [
      "Exiting program. Goodbye!\n"
     ]
    }
   ],
   "source": [
    "# WAP that has classes such as Student, Course, Department. Enroll a student in a course of a particular department. Classes are - Student details - name, roll no Course -  name, code, year and semester Department - Name Base class: Person\n",
    "class Person:\n",
    "    def __init__(self, name):\n",
    "        self.name = name\n",
    "\n",
    "    def __str__(self):\n",
    "        return f\"Name: {self.name}\"\n",
    "\n",
    "# Student class inheriting from Person\n",
    "class Student(Person):\n",
    "    def __init__(self, name, roll_no):\n",
    "        super().__init__(name)\n",
    "        self.roll_no = roll_no\n",
    "\n",
    "    def __str__(self):\n",
    "        return f\"Student Name: {self.name}, Roll No: {self.roll_no}\"\n",
    "\n",
    "# Base class: AcademicEntity\n",
    "class AcademicEntity:\n",
    "    def __init__(self, name):\n",
    "        self.name = name\n",
    "\n",
    "    def __str__(self):\n",
    "        return f\"{self.__class__.__name__} Name: {self.name}\"\n",
    "\n",
    "# Course class inheriting from AcademicEntity\n",
    "class Course(AcademicEntity):\n",
    "    def __init__(self, name, code, year, semester):\n",
    "        super().__init__(name)\n",
    "        self.code = code\n",
    "        self.year = year\n",
    "        self.semester = semester\n",
    "\n",
    "    def __str__(self):\n",
    "        return f\"Course Name: {self.name}, Code: {self.code}, Year: {self.year}, Semester: {self.semester}\"\n",
    "\n",
    "# Department class inheriting from AcademicEntity\n",
    "class Department(AcademicEntity):\n",
    "    def __init__(self, name):\n",
    "        super().__init__(name)\n",
    "        self.courses = []  # List of courses in the department\n",
    "\n",
    "    def add_course(self, course):\n",
    "        self.courses.append(course)\n",
    "\n",
    "    def __str__(self):\n",
    "        return f\"Department Name: {self.name}\"\n",
    "\n",
    "# Enrollment system for handling enrollments\n",
    "class Enrollment:\n",
    "    def __init__(self):\n",
    "        self.enrollments = {}  # Maps students to courses\n",
    "\n",
    "    def enroll_student(self, student, course, department):\n",
    "        if student not in self.enrollments:\n",
    "            self.enrollments[student] = []\n",
    "        self.enrollments[student].append((course, department))\n",
    "\n",
    "    def display_enrollments(self):\n",
    "        for student, courses in self.enrollments.items():\n",
    "            print(f\"\\n{student}:\")\n",
    "            for course, department in courses:\n",
    "                print(f\"  Enrolled in {course} of {department}\")\n",
    "\n",
    "# Main menu-driven program\n",
    "if __name__ == \"__main__\":\n",
    "    # Initialize data structures\n",
    "    students = []\n",
    "    courses = []\n",
    "    departments = []\n",
    "    enrollment_system = Enrollment()\n",
    "\n",
    "    while True:\n",
    "        print(\"\\nMenu:\")\n",
    "        print(\"1. Add Department\")\n",
    "        print(\"2. Add Course\")\n",
    "        print(\"3. Add Student\")\n",
    "        print(\"4. Enroll Student in a Course\")\n",
    "        print(\"5. Display Enrollments\")\n",
    "        print(\"6. Exit\")\n",
    "\n",
    "        choice = input(\"Enter your choice: \")\n",
    "\n",
    "        if choice == \"1\":\n",
    "            # Add a department\n",
    "            dept_name = input(\"Enter department name: \")\n",
    "            department = Department(dept_name)\n",
    "            departments.append(department)\n",
    "            print(f\"Department '{dept_name}' added.\")\n",
    "\n",
    "        elif choice == \"2\":\n",
    "            # Add a course\n",
    "            if not departments:\n",
    "                print(\"No departments available. Add a department first.\")\n",
    "                continue\n",
    "            dept_name = input(\"Enter the department for the course: \")\n",
    "            department = next((d for d in departments if d.name == dept_name), None)\n",
    "            if not department:\n",
    "                print(\"Department not found.\")\n",
    "                continue\n",
    "            course_name = input(\"Enter course name: \")\n",
    "            course_code = input(\"Enter course code: \")\n",
    "            course_year = input(\"Enter course year: \")\n",
    "            course_semester = input(\"Enter course semester: \")\n",
    "            course = Course(course_name, course_code, course_year, course_semester)\n",
    "            department.add_course(course)\n",
    "            courses.append(course)\n",
    "            print(f\"Course '{course_name}' added to department '{dept_name}'.\")\n",
    "\n",
    "        elif choice == \"3\":\n",
    "            # Add a student\n",
    "            student_name = input(\"Enter student name: \")\n",
    "            student_roll_no = input(\"Enter student roll number: \")\n",
    "            student = Student(student_name, student_roll_no)\n",
    "            students.append(student)\n",
    "            print(f\"Student '{student_name}' added.\")\n",
    "\n",
    "        elif choice == \"4\":\n",
    "            # Enroll a student in a course\n",
    "            if not students or not courses:\n",
    "                print(\"No students or courses available. Add them first.\")\n",
    "                continue\n",
    "            student_roll_no = input(\"Enter student roll number: \")\n",
    "            student = next((s for s in students if s.roll_no == student_roll_no), None)\n",
    "            if not student:\n",
    "                print(\"Student not found.\")\n",
    "                continue\n",
    "            course_code = input(\"Enter course code: \")\n",
    "            course = next((c for c in courses if c.code == course_code), None)\n",
    "            if not course:\n",
    "                print(\"Course not found.\")\n",
    "                continue\n",
    "            department = next((d for d in departments if course in d.courses), None)\n",
    "            if not department:\n",
    "                print(\"Department for the course not found.\")\n",
    "                continue\n",
    "            enrollment_system.enroll_student(student, course, department)\n",
    "            print(f\"Student '{student.name}' enrolled in course '{course.name}'.\")\n",
    "\n",
    "        elif choice == \"5\":\n",
    "            # Display all enrollments\n",
    "            enrollment_system.display_enrollments()\n",
    "\n",
    "        elif choice == \"6\":\n",
    "            # Exit the program\n",
    "            print(\"Exiting program. Goodbye!\")\n",
    "            break\n",
    "\n",
    "        else:\n",
    "            print(\"Invalid choice. Please try again.\")"
   ]
  },
  {
   "cell_type": "code",
   "execution_count": null,
   "id": "45ce4959-3af4-487c-8973-62f2fe472a5e",
   "metadata": {},
   "outputs": [],
   "source": []
  }
 ],
 "metadata": {
  "kernelspec": {
   "display_name": "Python 3 (ipykernel)",
   "language": "python",
   "name": "python3"
  },
  "language_info": {
   "codemirror_mode": {
    "name": "ipython",
    "version": 3
   },
   "file_extension": ".py",
   "mimetype": "text/x-python",
   "name": "python",
   "nbconvert_exporter": "python",
   "pygments_lexer": "ipython3",
   "version": "3.11.7"
  }
 },
 "nbformat": 4,
 "nbformat_minor": 5
}
