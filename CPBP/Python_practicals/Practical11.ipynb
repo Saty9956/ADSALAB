{
 "cells": [
  {
   "cell_type": "code",
   "execution_count": 6,
   "id": "26d33239-2e40-49fe-807a-f60fabffce4d",
   "metadata": {},
   "outputs": [
    {
     "name": "stdin",
     "output_type": "stream",
     "text": [
      "Enter Employee id:  100\n",
      "Enter Employee Name:  Satya\n",
      "Enter Employee Designation:  Secretary\n",
      "Enter Employee Salary:  50000\n",
      "Enter Employee id:  01\n",
      "Enter Employee Name:  CEO\n",
      "Enter Employee Designation:  Shubham\n",
      "Enter Employee Salary:  1500000\n"
     ]
    },
    {
     "name": "stdout",
     "output_type": "stream",
     "text": [
      "List of Employees and their details:  {'100': ['Satya', 'Secretary', '50000']}\n",
      "List of Employees and their details:  {'1': ['CEO', 'Shubham', '1500000']}\n",
      "Total count of employees:  2\n"
     ]
    }
   ],
   "source": [
    "# WAP with class Employee that keeps a track of the nummber of employees in an organisation and also stores their name, designation, and salary details.\n",
    "\n",
    "class Employee:\n",
    "    global count_of_emp\n",
    "    count_of_emp = 0\n",
    "\n",
    "    def __init__(self):\n",
    "        self.emp = {}\n",
    "    def enterEmployeeDetails(self):\n",
    "        i = int(input(\"Enter Employee id: \"))\n",
    "        n = input(\"Enter Employee Name: \")\n",
    "        d = input(\"Enter Employee Designation: \")\n",
    "        s = input(\"Enter Employee Salary: \")\n",
    "        self.emp.update({str(i): [n, d, s]})\n",
    "    def displayCount(self):\n",
    "        print(\"Total count of employees: \", count_of_emp)\n",
    "    def displayDetails(self):\n",
    "        print(\"List of Employees and their details: \", self.emp)\n",
    "\n",
    "e1 = Employee()\n",
    "e1.enterEmployeeDetails()\n",
    "count_of_emp += 1\n",
    "\n",
    "e2 = Employee()\n",
    "e2.enterEmployeeDetails()\n",
    "count_of_emp += 1\n",
    "\n",
    "e1.displayDetails()\n",
    "e2.displayDetails()\n",
    "\n",
    "e2.displayCount()"
   ]
  },
  {
   "cell_type": "code",
   "execution_count": 4,
   "id": "a57d81c0-64d1-426f-8191-76207274df6e",
   "metadata": {},
   "outputs": [
    {
     "name": "stdout",
     "output_type": "stream",
     "text": [
      "\n",
      "Given radius:  7\n",
      "Area of circle:  153.86\n",
      "Circumference of circle:  43.96\n",
      "\n",
      "Given radius:  10\n",
      "Area of circle:  314.0\n",
      "Circumference of circle:  62.800000000000004\n"
     ]
    }
   ],
   "source": [
    "# WAP that has a class Circle. Use a class variable to define the value of constant pi. Use this class variable to calculate area and curcumference of a circle with specified radius.\n",
    "\n",
    "class Circle:\n",
    "    def __init__(self, radius):\n",
    "        self.radius = radius\n",
    "        self.area = 0\n",
    "        self.circum = 0\n",
    "        self.pi = 3.14\n",
    "    def calcArea(self):\n",
    "        self.area = self.pi * self.radius * self.radius\n",
    "    def calcCircum(self):\n",
    "        self.circum = 2 * self.pi * self.radius\n",
    "    def printDetails(self):\n",
    "        print()\n",
    "        print(\"Given radius: \", self.radius)\n",
    "        print(\"Area of circle: \", self.area)\n",
    "        print(\"Circumference of circle: \", self.circum)\n",
    "\n",
    "c1 = Circle(7)\n",
    "c1.calcArea()\n",
    "c1.calcCircum()\n",
    "\n",
    "c2 = Circle(10)\n",
    "c2.calcArea()\n",
    "c2.calcCircum()\n",
    "\n",
    "c1.printDetails()\n",
    "c2.printDetails()"
   ]
  },
  {
   "cell_type": "code",
   "execution_count": 8,
   "id": "226b625b-06dc-4853-8669-ec65079d9bc0",
   "metadata": {},
   "outputs": [
    {
     "name": "stdout",
     "output_type": "stream",
     "text": [
      "\n",
      "***********************************************************\n"
     ]
    },
    {
     "name": "stdin",
     "output_type": "stream",
     "text": [
      "Enter your choice:\n",
      "1. Press 1 to enter a new book into the system.\n",
      "2. Press 2 to display all records.\n",
      "3. Press 3 to search book by title and print its details\n",
      "4. Press 4 to search book by author and print its details\n",
      "5. Press anything else to exit\n",
      "Enter your choice:  1\n"
     ]
    },
    {
     "name": "stdout",
     "output_type": "stream",
     "text": [
      "\n"
     ]
    },
    {
     "name": "stdin",
     "output_type": "stream",
     "text": [
      "Enter title of book:  New Book\n",
      "Enter name of author of book:  Satya\n",
      "Enter price of book:  122\n"
     ]
    },
    {
     "name": "stdout",
     "output_type": "stream",
     "text": [
      "\n",
      "***********************************************************\n"
     ]
    },
    {
     "name": "stdin",
     "output_type": "stream",
     "text": [
      "Enter your choice:\n",
      "1. Press 1 to enter a new book into the system.\n",
      "2. Press 2 to display all records.\n",
      "3. Press 3 to search book by title and print its details\n",
      "4. Press 4 to search book by author and print its details\n",
      "5. Press anything else to exit\n",
      "Enter your choice:  1\n"
     ]
    },
    {
     "name": "stdout",
     "output_type": "stream",
     "text": [
      "\n"
     ]
    },
    {
     "name": "stdin",
     "output_type": "stream",
     "text": [
      "Enter title of book:  New Book 2\n",
      "Enter name of author of book:  Satyaaa\n",
      "Enter price of book:  200\n"
     ]
    },
    {
     "name": "stdout",
     "output_type": "stream",
     "text": [
      "\n",
      "***********************************************************\n"
     ]
    },
    {
     "name": "stdin",
     "output_type": "stream",
     "text": [
      "Enter your choice:\n",
      "1. Press 1 to enter a new book into the system.\n",
      "2. Press 2 to display all records.\n",
      "3. Press 3 to search book by title and print its details\n",
      "4. Press 4 to search book by author and print its details\n",
      "5. Press anything else to exit\n",
      "Enter your choice:  2\n"
     ]
    },
    {
     "name": "stdout",
     "output_type": "stream",
     "text": [
      "-----------\n",
      "Title of book:  New Book\n",
      "Author of book:  Satya\n",
      "Price of book:  122\n",
      "-----------\n",
      "\n",
      "-----------\n",
      "Title of book:  New Book 2\n",
      "Author of book:  Satyaaa\n",
      "Price of book:  200\n",
      "-----------\n",
      "\n",
      "\n",
      "***********************************************************\n"
     ]
    },
    {
     "name": "stdin",
     "output_type": "stream",
     "text": [
      "Enter your choice:\n",
      "1. Press 1 to enter a new book into the system.\n",
      "2. Press 2 to display all records.\n",
      "3. Press 3 to search book by title and print its details\n",
      "4. Press 4 to search book by author and print its details\n",
      "5. Press anything else to exit\n",
      "Enter your choice:  8\n"
     ]
    },
    {
     "name": "stdout",
     "output_type": "stream",
     "text": [
      "Invalid choice! Exiting the program\n"
     ]
    }
   ],
   "source": [
    "# Write a menu driven program that keeps record of books and journals available in a library. class book attributes of constructor - title, author name, price of booktwo functions - read and display() use logic that if you have list of books in a list, then you have a choice for read() and display() for that particular book.\n",
    "\n",
    "class Book():\n",
    "    def __init__(self,):\n",
    "        self.title = \"\"\n",
    "        self.author = \"\"\n",
    "        self.price = \"\"\n",
    "    def read(self):\n",
    "        print()\n",
    "        self.title = input(\"Enter title of book: \")\n",
    "        self.author = input(\"Enter name of author of book: \")\n",
    "        self.price = input(\"Enter price of book: \")\n",
    "    def display(self):\n",
    "        print(\"-----------\")\n",
    "        print(\"Title of book: \", self.title)\n",
    "        print(\"Author of book: \", self.author)\n",
    "        print(\"Price of book: \", self.price)\n",
    "        print(\"-----------\")\n",
    "\n",
    "list_of_books = []\n",
    "while True:\n",
    "    print()\n",
    "    print(\"***********************************************************\")\n",
    "    ch = input(\"Enter your choice:\\n1. Press 1 to enter a new book into the system.\\n2. Press 2 to display all records.\\n3. Press 3 to search book by title and print its details\\n4. Press 4 to search book by author and print its details\\n5. Press anything else to exit\\nEnter your choice: \")\n",
    "    if int(ch) == 1:\n",
    "        obj = Book()\n",
    "        obj.read()\n",
    "        list_of_books.append(obj)\n",
    "    elif int(ch) == 2:\n",
    "        for i in list_of_books:\n",
    "            i.display()\n",
    "            print()\n",
    "    elif int(ch) == 3:\n",
    "        pat = input(\"Enter the search keyword in title: \")\n",
    "        for i in list_of_books:\n",
    "            if pat.lower() in i.title.lower():\n",
    "                i.display()\n",
    "    elif int(ch) == 4:\n",
    "        pat = input(\"Enter the search keyword in author name: \")\n",
    "        for i in list_of_books:\n",
    "            if pat.lower() in i.author.lower():\n",
    "                i.display()\n",
    "    else:\n",
    "        print(\"Invalid choice! Exiting the program\")\n",
    "        break"
   ]
  },
  {
   "cell_type": "code",
   "execution_count": null,
   "id": "256ed7a5-a096-47cd-982a-3d03377329de",
   "metadata": {},
   "outputs": [],
   "source": []
  }
 ],
 "metadata": {
  "kernelspec": {
   "display_name": "Python 3 (ipykernel)",
   "language": "python",
   "name": "python3"
  },
  "language_info": {
   "codemirror_mode": {
    "name": "ipython",
    "version": 3
   },
   "file_extension": ".py",
   "mimetype": "text/x-python",
   "name": "python",
   "nbconvert_exporter": "python",
   "pygments_lexer": "ipython3",
   "version": "3.11.7"
  }
 },
 "nbformat": 4,
 "nbformat_minor": 5
}
