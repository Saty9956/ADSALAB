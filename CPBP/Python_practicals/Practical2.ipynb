{
 "cells": [
  {
   "cell_type": "code",
   "execution_count": 6,
   "id": "e6ce31fc-2d24-4a57-b903-c7831ef98406",
   "metadata": {},
   "outputs": [
    {
     "name": "stdout",
     "output_type": "stream",
     "text": [
      "52\n",
      "<class 'int'>\n"
     ]
    }
   ],
   "source": [
    "# Convert char to int\n",
    "a = '4'\n",
    "b = ord(a)\n",
    "print(b)\n",
    "print(type(b))\n"
   ]
  },
  {
   "cell_type": "code",
   "execution_count": 8,
   "id": "b82d93f6-b7f7-4540-abee-aa701f39f8ba",
   "metadata": {},
   "outputs": [
    {
     "name": "stdout",
     "output_type": "stream",
     "text": [
      "0x38\n",
      "<class 'str'>\n"
     ]
    }
   ],
   "source": [
    "# Find hex value of given int\n",
    "b = hex(56)\n",
    "print(b)\n",
    "print(type(b))\n"
   ]
  },
  {
   "cell_type": "code",
   "execution_count": 10,
   "id": "fe3ebd87-1ed2-490a-99f5-8551ab3c994b",
   "metadata": {},
   "outputs": [
    {
     "name": "stdout",
     "output_type": "stream",
     "text": [
      "0o70\n",
      "<class 'str'>\n"
     ]
    }
   ],
   "source": [
    "# Convert int to octal\n",
    "b = oct(56)\n",
    "print(b)\n",
    "print(type(b))"
   ]
  },
  {
   "cell_type": "code",
   "execution_count": 12,
   "id": "13b4e5ec-dec8-4b1f-913e-1db825a817ae",
   "metadata": {},
   "outputs": [
    {
     "name": "stdout",
     "output_type": "stream",
     "text": [
      "after converting the string to a tuple: ('j', 'a', 'v', 'a', 'T', 'p', 'o', 'i', 'n', 't')\n"
     ]
    }
   ],
   "source": [
    "x = 'javaTpoint'\n",
    "y=tuple(x)\n",
    "print(\"after converting the string to a tuple: \", end=\"\")\n",
    "print(y)"
   ]
  },
  {
   "cell_type": "code",
   "execution_count": 14,
   "id": "44bab1b1-cfec-4315-9acb-564b7f16b9d0",
   "metadata": {},
   "outputs": [
    {
     "name": "stdout",
     "output_type": "stream",
     "text": [
      "after converting the string to a set: {'p', 'T', 'n', 'i', 'a', 'j', 't', 'o', 'v'}\n"
     ]
    }
   ],
   "source": [
    "y = set(x)\n",
    "print(\"after converting the string to a set: \", end=\"\")\n",
    "print(y)"
   ]
  },
  {
   "cell_type": "code",
   "execution_count": 16,
   "id": "ade80d54-ecf0-471c-b4ac-b136dbce19b7",
   "metadata": {},
   "outputs": [
    {
     "name": "stdout",
     "output_type": "stream",
     "text": [
      "after converting the string to a list: ['j', 'a', 'v', 'a', 'T', 'p', 'o', 'i', 'n', 't']\n"
     ]
    }
   ],
   "source": [
    "y = list(x)\n",
    "print(\"after converting the string to a list: \", end=\"\")\n",
    "print(y)"
   ]
  },
  {
   "cell_type": "code",
   "execution_count": 18,
   "id": "21f170c8-1ba0-43f0-8f63-e782a8c4fed2",
   "metadata": {},
   "outputs": [
    {
     "name": "stdout",
     "output_type": "stream",
     "text": [
      "sum:  9\n",
      "diff:  5\n",
      "mult:  14\n",
      "div:  3.5\n",
      "mod:  1\n",
      "floor:  3\n",
      "power:  49\n"
     ]
    }
   ],
   "source": [
    "a = 7\n",
    "b = 2\n",
    "print(\"sum: \", a+b)\n",
    "print(\"diff: \", a-b)\n",
    "print(\"mult: \", a*b)\n",
    "print(\"div: \", a/b)\n",
    "print(\"mod: \", a%b)\n",
    "print(\"floor: \", a//b)\n",
    "print(\"power: \", a**b)\n"
   ]
  },
  {
   "cell_type": "code",
   "execution_count": 28,
   "id": "92880ac7-f2f4-4930-b719-053ddb616082",
   "metadata": {},
   "outputs": [
    {
     "name": "stdout",
     "output_type": "stream",
     "text": [
      "False\n",
      "True\n",
      "True\n",
      "False\n",
      "False\n",
      "True\n"
     ]
    }
   ],
   "source": [
    "# Comparison Operators\n",
    "a=5\n",
    "b=2\n",
    "print(a==b)\n",
    "print(a!=b)\n",
    "print(a>b)\n",
    "print(a<b)\n",
    "print(a<=b)\n",
    "print(a>=b)"
   ]
  },
  {
   "cell_type": "code",
   "execution_count": 30,
   "id": "dea63b50-ebe3-49c1-b148-c52fb55ab70e",
   "metadata": {},
   "outputs": [
    {
     "name": "stdout",
     "output_type": "stream",
     "text": [
      "True\n",
      "True\n"
     ]
    }
   ],
   "source": [
    "# Logical Operators\n",
    "a=5\n",
    "b=6\n",
    "print((a>2) and (b>=6))\n",
    "print((a>2) or (b>=6))\n"
   ]
  },
  {
   "cell_type": "code",
   "execution_count": 32,
   "id": "c1374e46-eaf2-47e9-8a73-6e6b276db1b7",
   "metadata": {},
   "outputs": [
    {
     "name": "stdout",
     "output_type": "stream",
     "text": [
      "False\n",
      "True\n",
      "False\n"
     ]
    }
   ],
   "source": [
    "# Identity operators\n",
    "x1=5\n",
    "y1=5\n",
    "x2='Hello'\n",
    "y2='Hello'\n",
    "x3=[1,2,3]\n",
    "y3=[1,2,3]\n",
    "print(x1 is not y1)\n",
    "print(x2 is y2)\n",
    "print(x3 is y3)"
   ]
  },
  {
   "cell_type": "code",
   "execution_count": null,
   "id": "838a51dc-f990-48aa-84fe-c5dbb820e6a7",
   "metadata": {},
   "outputs": [],
   "source": []
  }
 ],
 "metadata": {
  "kernelspec": {
   "display_name": "Python 3 (ipykernel)",
   "language": "python",
   "name": "python3"
  },
  "language_info": {
   "codemirror_mode": {
    "name": "ipython",
    "version": 3
   },
   "file_extension": ".py",
   "mimetype": "text/x-python",
   "name": "python",
   "nbconvert_exporter": "python",
   "pygments_lexer": "ipython3",
   "version": "3.11.7"
  }
 },
 "nbformat": 4,
 "nbformat_minor": 5
}
