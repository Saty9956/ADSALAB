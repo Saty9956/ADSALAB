{
 "cells": [
  {
   "cell_type": "code",
   "execution_count": 2,
   "id": "833d1920-cf63-4bc8-8a4e-ae43ffc542b0",
   "metadata": {},
   "outputs": [
    {
     "name": "stdout",
     "output_type": "stream",
     "text": [
      "[2, 3, 4, 5]\n"
     ]
    }
   ],
   "source": [
    "# List slicing\n",
    "list1 = ['physics', 'chem', 1997, 2000]\n",
    "list2 = [1,2,3,4,5,6,7,8]\n",
    "print(list2[1:5])"
   ]
  },
  {
   "cell_type": "code",
   "execution_count": 4,
   "id": "3e82634c-6a82-4dca-8fd7-e70e7d023ccb",
   "metadata": {},
   "outputs": [
    {
     "name": "stdout",
     "output_type": "stream",
     "text": [
      "['G', 'E', 'E', 'K', 'S', 'F', 'O', 'R', 'G', 'E', 'E', 'K', 'S']\n",
      "Sliced:  ['G', 'E', 'E', 'K', 'S', 'F', 'O']\n",
      "['R', 'G', 'E', 'E', 'K']\n",
      "['S', 'K', 'E', 'E', 'G', 'R', 'O', 'F', 'S', 'K', 'E', 'E', 'G']\n"
     ]
    }
   ],
   "source": [
    "# List methods- insert, append, extend, reverse, reversed, remove, pop, slicing, \n",
    "List = ['G', 'E', 'E', 'K', 'S', 'F', 'O', 'R', 'G', 'E', 'E', 'K', 'S']\n",
    "print(List)\n",
    "Sliced_list = List[:-6]\n",
    "print(\"Sliced: \", Sliced_list)\n",
    "l2 = List[-6:-1]\n",
    "print(l2)\n",
    "l3 = List[::-1]\n",
    "print(l3)"
   ]
  },
  {
   "cell_type": "code",
   "execution_count": 6,
   "id": "5a95734b-369c-4660-894d-0d66d0ffa306",
   "metadata": {},
   "outputs": [
    {
     "name": "stdout",
     "output_type": "stream",
     "text": [
      "[1, 9, 25, 49, 81]\n",
      "[1, 9, 25, 49, 81]\n"
     ]
    }
   ],
   "source": [
    "# List Comprehension\n",
    "# Syntax - [expression(element) for element in oddList if condition]\n",
    "l1 = [x**2 for x in range(1,11) if x%2 == 1]\n",
    "print(l1)\n",
    "\n",
    "# List Comprehension\n",
    "# Syntax - [expression(element) for element in oddList if condition]\n",
    "l1 = [x**2 for x in range(1,11) if x%2 == 1]\n",
    "print(l1)\n"
   ]
  },
  {
   "cell_type": "code",
   "execution_count": 8,
   "id": "1cf5167d-d273-4d9f-8439-36291428fc07",
   "metadata": {},
   "outputs": [
    {
     "name": "stdout",
     "output_type": "stream",
     "text": [
      "1\n",
      "a\n",
      "abc\n",
      "[2, 3, 4, 5]\n",
      "8.9\n"
     ]
    }
   ],
   "source": [
    "# Looping in lists\n",
    "ls = [1,'a',\"abc\",[2,3,4,5],8.9]\n",
    "i = 0\n",
    "while i < (len(ls)):\n",
    "    print(ls[i])\n",
    "    i+=1"
   ]
  },
  {
   "cell_type": "code",
   "execution_count": 10,
   "id": "53fe41ec-b6d1-4723-b6c8-00a94fc44658",
   "metadata": {},
   "outputs": [
    {
     "name": "stdout",
     "output_type": "stream",
     "text": [
      "index:  0\n",
      "index:  1\n",
      "index:  2\n",
      "index:  3\n",
      "index:  4\n"
     ]
    }
   ],
   "source": [
    "# Program to print index of values in a list\n",
    "l1 = [1,2,3,4,5]\n",
    "for i in range(len(l1)):\n",
    "    print(\"index: \", i)"
   ]
  },
  {
   "cell_type": "code",
   "execution_count": 12,
   "id": "5010fc8b-e5ce-4bec-839d-28db304f74c6",
   "metadata": {},
   "outputs": [
    {
     "name": "stdout",
     "output_type": "stream",
     "text": [
      "Sum =  55\n",
      "Avg =  5.5\n"
     ]
    }
   ],
   "source": [
    "# Sum and average of list items\n",
    "l1 = [1,2,3,4,5,6,7,8,9,10]\n",
    "s = 0\n",
    "for i in l1:\n",
    "    s+=i\n",
    "print(\"Sum = \", s)\n",
    "print(\"Avg = \", s/len(l1))"
   ]
  },
  {
   "cell_type": "code",
   "execution_count": null,
   "id": "fc649ef8-b505-4616-9045-ac3b6026dc15",
   "metadata": {},
   "outputs": [],
   "source": []
  }
 ],
 "metadata": {
  "kernelspec": {
   "display_name": "Python 3 (ipykernel)",
   "language": "python",
   "name": "python3"
  },
  "language_info": {
   "codemirror_mode": {
    "name": "ipython",
    "version": 3
   },
   "file_extension": ".py",
   "mimetype": "text/x-python",
   "name": "python",
   "nbconvert_exporter": "python",
   "pygments_lexer": "ipython3",
   "version": "3.11.7"
  }
 },
 "nbformat": 4,
 "nbformat_minor": 5
}
