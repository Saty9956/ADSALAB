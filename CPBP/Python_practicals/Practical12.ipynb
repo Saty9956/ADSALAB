{
 "cells": [
  {
   "cell_type": "code",
   "execution_count": 9,
   "id": "0d996191-d30c-48f5-9a4a-7679d19780f4",
   "metadata": {},
   "outputs": [
    {
     "name": "stdout",
     "output_type": "stream",
     "text": [
      "Sum of complex numbers: 6 + 8i\n"
     ]
    }
   ],
   "source": [
    "#Demonstrate operator overloading\n",
    "class ComplexNumber:\n",
    "    def __init__(self, real, imag):\n",
    "        self.real = real\n",
    "        self.imag = imag\n",
    "\n",
    "    def __add__(self, other):\n",
    "        return ComplexNumber(self.real + other.real, self.imag + other.imag)\n",
    "\n",
    "    def __str__(self):\n",
    "        return f\"{self.real} + {self.imag}i\"\n",
    "\n",
    "c1 = ComplexNumber(2, 3)\n",
    "c2 = ComplexNumber(4, 5)\n",
    "result = c1 + c2  # Uses overloaded __add__ method\n",
    "print(\"Sum of complex numbers:\", result)"
   ]
  },
  {
   "cell_type": "code",
   "execution_count": 11,
   "id": "de9a86cd-8173-419a-b33b-aa25814f4ae7",
   "metadata": {},
   "outputs": [
    {
     "name": "stdout",
     "output_type": "stream",
     "text": [
      "Bark\n"
     ]
    }
   ],
   "source": [
    "#Demonstrate Method Overriding\n",
    "class Animal:\n",
    "    def sound(self):\n",
    "        print(\"Some generic animal sound\")\n",
    "\n",
    "class Dog(Animal):\n",
    "    def sound(self):\n",
    "        print(\"Bark\")\n",
    "\n",
    "dog = Dog()\n",
    "dog.sound()  # Method overridden in the Dog class\n"
   ]
  },
  {
   "cell_type": "code",
   "execution_count": 15,
   "id": "32df47a3-e723-43a6-8f35-e466460b3aad",
   "metadata": {},
   "outputs": [
    {
     "name": "stdin",
     "output_type": "stream",
     "text": [
      "Enter numerator:  45\n",
      "Enter denominator:  0\n"
     ]
    },
    {
     "name": "stdout",
     "output_type": "stream",
     "text": [
      "Error: Division by zero is not allowed!\n"
     ]
    }
   ],
   "source": [
    "#WAP to handle the divide by zero exception\n",
    "try:\n",
    "    numerator = float(input(\"Enter numerator: \"))\n",
    "    denominator = float(input(\"Enter denominator: \"))\n",
    "    result = numerator / denominator\n",
    "    print(\"Result:\", result)\n",
    "except ZeroDivisionError:\n",
    "    print(\"Error: Division by zero is not allowed!\")"
   ]
  },
  {
   "cell_type": "code",
   "execution_count": 21,
   "id": "71658e56-1169-4715-8e06-55a9518110a3",
   "metadata": {},
   "outputs": [
    {
     "name": "stdin",
     "output_type": "stream",
     "text": [
      "Enter your age:  45\n"
     ]
    },
    {
     "name": "stdout",
     "output_type": "stream",
     "text": [
      "Custom Exception: Negative number error\n"
     ]
    },
    {
     "name": "stdin",
     "output_type": "stream",
     "text": [
      "Enter a positive number:  4\n"
     ]
    },
    {
     "name": "stdout",
     "output_type": "stream",
     "text": [
      "You entered: 4\n"
     ]
    }
   ],
   "source": [
    "#Demonstrate Raise Exceptions, Instantiating Exceptions, assertion\n",
    "# Raising an exception\n",
    "try:\n",
    "    age = int(input(\"Enter your age: \"))\n",
    "    if age < 0:\n",
    "        raise ValueError(\"Age cannot be negative!\")\n",
    "except ValueError as e:\n",
    "    print(f\"Exception: {e}\")\n",
    "\n",
    "# Instantiating custom exceptions\n",
    "class CustomError(Exception):\n",
    "    pass\n",
    "\n",
    "try:\n",
    "    x = -5\n",
    "    if x < 0:\n",
    "        raise CustomError(\"Negative number error\")\n",
    "except CustomError as e:\n",
    "    print(f\"Custom Exception: {e}\")\n",
    "\n",
    "# Assertion example\n",
    "num = int(input(\"Enter a positive number: \"))\n",
    "assert num > 0, \"Number must be positive!\"\n",
    "print(f\"You entered: {num}\")\n"
   ]
  },
  {
   "cell_type": "code",
   "execution_count": 31,
   "id": "d42535cd-f75e-4cb2-874c-188112903bd0",
   "metadata": {},
   "outputs": [
    {
     "name": "stdin",
     "output_type": "stream",
     "text": [
      "Enter a number:  \n"
     ]
    },
    {
     "name": "stdout",
     "output_type": "stream",
     "text": [
      "Error: No input provided!\n"
     ]
    }
   ],
   "source": [
    "#WAP that prompts the use to enter a number and prints the square of that number.If no number is entered, then a KeyBoardInterrupt is generated\n",
    "try:\n",
    "    num = input(\"Enter a number: \")\n",
    "    if not num:\n",
    "        raise KeyboardInterrupt(\"No input provided!\")\n",
    "    num = int(num)\n",
    "    print(\"Square of the number:\", num ** 2)\n",
    "except KeyboardInterrupt as e:\n",
    "    print(f\"Error: {e}\")\n",
    "except ValueError:\n",
    "    print(\"Error: Please enter a valid number.\")"
   ]
  },
  {
   "cell_type": "code",
   "execution_count": 33,
   "id": "7fa8754e-bbbe-4c90-afee-a6038b33dfe0",
   "metadata": {},
   "outputs": [
    {
     "name": "stdout",
     "output_type": "stream",
     "text": [
      "1\n",
      "2\n",
      "3\n",
      "4\n",
      "5\n",
      "6\n",
      "7\n",
      "8\n",
      "9\n",
      "10\n",
      "11\n",
      "12\n",
      "13\n",
      "14\n",
      "15\n",
      "16\n",
      "17\n",
      "18\n",
      "19\n",
      "20\n"
     ]
    }
   ],
   "source": [
    "#WAP which infinitely prints natural numbers. Raise the stopIterationException after displaying first 20 numbers tp exit from the program.\n",
    "class NaturalNumbers:\n",
    "    def __init__(self):\n",
    "        self.num = 1\n",
    "\n",
    "    def __iter__(self):\n",
    "        return self\n",
    "\n",
    "    def __next__(self):\n",
    "        if self.num > 20:  # Stop after printing 20 numbers\n",
    "            raise StopIteration\n",
    "        current_num = self.num\n",
    "        self.num += 1\n",
    "        return current_num\n",
    "\n",
    "numbers = NaturalNumbers()\n",
    "for number in numbers:\n",
    "    print(number)"
   ]
  },
  {
   "cell_type": "code",
   "execution_count": 41,
   "id": "c9f46465-42e5-48b8-b9bf-49831c72ae20",
   "metadata": {},
   "outputs": [
    {
     "name": "stdout",
     "output_type": "stream",
     "text": [
      "Generated number: 0.6551580294819157\n"
     ]
    }
   ],
   "source": [
    "#WAP that randomly generates a number. Raise a UserDefined excepƟon if the number is below 0.1\n",
    "import random\n",
    "\n",
    "class SmallNumberError(Exception):\n",
    "    \"\"\"Custom exception for numbers below 0.1\"\"\"\n",
    "    pass\n",
    "\n",
    "try:\n",
    "    num = random.random()  # Generate a random number between 0 and 1\n",
    "    print(\"Generated number:\", num)\n",
    "    if num < 0.1:\n",
    "        raise SmallNumberError(\"Generated number is too small!\")\n",
    "except SmallNumberError as e:\n",
    "    print(f\"Error: {e}\")"
   ]
  },
  {
   "cell_type": "code",
   "execution_count": null,
   "id": "cdf93de4-5b4f-441e-b235-f9262930b565",
   "metadata": {},
   "outputs": [],
   "source": []
  }
 ],
 "metadata": {
  "kernelspec": {
   "display_name": "Python 3 (ipykernel)",
   "language": "python",
   "name": "python3"
  },
  "language_info": {
   "codemirror_mode": {
    "name": "ipython",
    "version": 3
   },
   "file_extension": ".py",
   "mimetype": "text/x-python",
   "name": "python",
   "nbconvert_exporter": "python",
   "pygments_lexer": "ipython3",
   "version": "3.11.7"
  }
 },
 "nbformat": 4,
 "nbformat_minor": 5
}
