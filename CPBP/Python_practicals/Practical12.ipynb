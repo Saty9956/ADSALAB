{
 "cells": [
  {
   "cell_type": "code",
   "execution_count": 2,
   "id": "45c9807c-4efc-4670-a5e3-047e0ef53bfb",
   "metadata": {},
   "outputs": [
    {
     "name": "stdout",
     "output_type": "stream",
     "text": [
      "X = 1, Y = 2\n",
      "X = 10, Y = 20\n",
      "X_relected = 10, Y_reflected = -20\n"
     ]
    }
   ],
   "source": [
    "# WAP that has a class Point. Define another class Location which has 2 objects - location and destination. \n",
    "# Also define a function in location that prints the refelction of destination on the x-axis.\n",
    "\n",
    "class Point:\n",
    "    def __init__(self, x, y):\n",
    "        self.x = x\n",
    "        self.y = y\n",
    "        self.x_new = 0\n",
    "        self.y_new = 0\n",
    "    def display_point(self):\n",
    "        print(f'X = {self.x}, Y = {self.y}')\n",
    "\n",
    "class Location(Point):\n",
    "    def reflection(self):\n",
    "        self.y_new = self.y * -1\n",
    "        self.x_new = self.x\n",
    "        print(f'X_relected = {self.x_new}, Y_reflected = {self.y_new}')\n",
    "\n",
    "location = Location(1, 2)\n",
    "destination = Location(10, 20)\n",
    "\n",
    "location.display_point()\n",
    "destination.display_point()\n",
    "destination.reflection()"
   ]
  },
  {
   "cell_type": "code",
   "execution_count": 4,
   "id": "df09cb32-9acb-4de1-941e-fbac102a188a",
   "metadata": {},
   "outputs": [
    {
     "name": "stdout",
     "output_type": "stream",
     "text": [
      "\n",
      "Menu:\n",
      "1. Add Department\n",
      "2. Add Course\n",
      "3. Add Student\n",
      "4. Enroll Student in a Course\n",
      "5. Display Enrollments\n",
      "6. Exit\n"
     ]
    },
    {
     "name": "stdin",
     "output_type": "stream",
     "text": [
      "Enter your choice:  1\n",
      "Enter department name:  Physics\n"
     ]
    },
    {
     "name": "stdout",
     "output_type": "stream",
     "text": [
      "Department 'Physics' added.\n",
      "\n",
      "Menu:\n",
      "1. Add Department\n",
      "2. Add Course\n",
      "3. Add Student\n",
      "4. Enroll Student in a Course\n",
      "5. Display Enrollments\n",
      "6. Exit\n"
     ]
    },
    {
     "name": "stdin",
     "output_type": "stream",
     "text": [
      "Enter your choice:  2\n",
      "Enter the department for the course:  Physical Science\n"
     ]
    },
    {
     "name": "stdout",
     "output_type": "stream",
     "text": [
      "Department not found.\n",
      "\n",
      "Menu:\n",
      "1. Add Department\n",
      "2. Add Course\n",
      "3. Add Student\n",
      "4. Enroll Student in a Course\n",
      "5. Display Enrollments\n",
      "6. Exit\n"
     ]
    },
    {
     "name": "stdin",
     "output_type": "stream",
     "text": [
      "Enter your choice:  3\n",
      "Enter student name:  Satya\n",
      "Enter student roll number:  205241\n"
     ]
    },
    {
     "name": "stdout",
     "output_type": "stream",
     "text": [
      "Student 'Satya' added.\n",
      "\n",
      "Menu:\n",
      "1. Add Department\n",
      "2. Add Course\n",
      "3. Add Student\n",
      "4. Enroll Student in a Course\n",
      "5. Display Enrollments\n",
      "6. Exit\n"
     ]
    },
    {
     "name": "stdin",
     "output_type": "stream",
     "text": [
      "Enter your choice:  5\n"
     ]
    },
    {
     "name": "stdout",
     "output_type": "stream",
     "text": [
      "\n",
      "Menu:\n",
      "1. Add Department\n",
      "2. Add Course\n",
      "3. Add Student\n",
      "4. Enroll Student in a Course\n",
      "5. Display Enrollments\n",
      "6. Exit\n"
     ]
    },
    {
     "name": "stdin",
     "output_type": "stream",
     "text": [
      "Enter your choice:  5\n"
     ]
    },
    {
     "name": "stdout",
     "output_type": "stream",
     "text": [
      "\n",
      "Menu:\n",
      "1. Add Department\n",
      "2. Add Course\n",
      "3. Add Student\n",
      "4. Enroll Student in a Course\n",
      "5. Display Enrollments\n",
      "6. Exit\n"
     ]
    },
    {
     "name": "stdin",
     "output_type": "stream",
     "text": [
      "Enter your choice:  \n"
     ]
    },
    {
     "name": "stdout",
     "output_type": "stream",
     "text": [
      "Invalid choice. Please try again.\n",
      "\n",
      "Menu:\n",
      "1. Add Department\n",
      "2. Add Course\n",
      "3. Add Student\n",
      "4. Enroll Student in a Course\n",
      "5. Display Enrollments\n",
      "6. Exit\n"
     ]
    },
    {
     "name": "stdin",
     "output_type": "stream",
     "text": [
      "Enter your choice:  4\n"
     ]
    },
    {
     "name": "stdout",
     "output_type": "stream",
     "text": [
      "No students or courses available. Add them first.\n",
      "\n",
      "Menu:\n",
      "1. Add Department\n",
      "2. Add Course\n",
      "3. Add Student\n",
      "4. Enroll Student in a Course\n",
      "5. Display Enrollments\n",
      "6. Exit\n"
     ]
    },
    {
     "name": "stdin",
     "output_type": "stream",
     "text": [
      "Enter your choice:  6\n"
     ]
    },
    {
     "name": "stdout",
     "output_type": "stream",
     "text": [
      "Exiting program. Goodbye!\n"
     ]
    }
   ],
   "source": [
    "# WAP that has classes such as Student, Course, Department. Enroll a student in a course of a particular department. Classes are - Student details - name, roll no Course -  name, code, year and semester Department - Name Base class: Person\n",
    "class Person:\n",
    "    def __init__(self, name):\n",
    "        self.name = name\n",
    "\n",
    "    def __str__(self):\n",
    "        return f\"Name: {self.name}\"\n",
    "\n",
    "# Student class inheriting from Person\n",
    "class Student(Person):\n",
    "    def __init__(self, name, roll_no):\n",
    "        super().__init__(name)\n",
    "        self.roll_no = roll_no\n",
    "\n",
    "    def __str__(self):\n",
    "        return f\"Student Name: {self.name}, Roll No: {self.roll_no}\"\n",
    "\n",
    "# Base class: AcademicEntity\n",
    "class AcademicEntity:\n",
    "    def __init__(self, name):\n",
    "        self.name = name\n",
    "\n",
    "    def __str__(self):\n",
    "        return f\"{self.__class__.__name__} Name: {self.name}\"\n",
    "\n",
    "# Course class inheriting from AcademicEntity\n",
    "class Course(AcademicEntity):\n",
    "    def __init__(self, name, code, year, semester):\n",
    "        super().__init__(name)\n",
    "        self.code = code\n",
    "        self.year = year\n",
    "        self.semester = semester\n",
    "\n",
    "    def __str__(self):\n",
    "        return f\"Course Name: {self.name}, Code: {self.code}, Year: {self.year}, Semester: {self.semester}\"\n",
    "\n",
    "# Department class inheriting from AcademicEntity\n",
    "class Department(AcademicEntity):\n",
    "    def __init__(self, name):\n",
    "        super().__init__(name)\n",
    "        self.courses = []  # List of courses in the department\n",
    "\n",
    "    def add_course(self, course):\n",
    "        self.courses.append(course)\n",
    "\n",
    "    def __str__(self):\n",
    "        return f\"Department Name: {self.name}\"\n",
    "\n",
    "# Enrollment system for handling enrollments\n",
    "class Enrollment:\n",
    "    def __init__(self):\n",
    "        self.enrollments = {}  # Maps students to courses\n",
    "\n",
    "    def enroll_student(self, student, course, department):\n",
    "        if student not in self.enrollments:\n",
    "            self.enrollments[student] = []\n",
    "        self.enrollments[student].append((course, department))\n",
    "\n",
    "    def display_enrollments(self):\n",
    "        for student, courses in self.enrollments.items():\n",
    "            print(f\"\\n{student}:\")\n",
    "            for course, department in courses:\n",
    "                print(f\"  Enrolled in {course} of {department}\")\n",
    "\n",
    "# Main menu-driven program\n",
    "if __name__ == \"__main__\":\n",
    "    # Initialize data structures\n",
    "    students = []\n",
    "    courses = []\n",
    "    departments = []\n",
    "    enrollment_system = Enrollment()\n",
    "\n",
    "    while True:\n",
    "        print(\"\\nMenu:\")\n",
    "        print(\"1. Add Department\")\n",
    "        print(\"2. Add Course\")\n",
    "        print(\"3. Add Student\")\n",
    "        print(\"4. Enroll Student in a Course\")\n",
    "        print(\"5. Display Enrollments\")\n",
    "        print(\"6. Exit\")\n",
    "\n",
    "        choice = input(\"Enter your choice: \")\n",
    "\n",
    "        if choice == \"1\":\n",
    "            # Add a department\n",
    "            dept_name = input(\"Enter department name: \")\n",
    "            department = Department(dept_name)\n",
    "            departments.append(department)\n",
    "            print(f\"Department '{dept_name}' added.\")\n",
    "\n",
    "        elif choice == \"2\":\n",
    "            # Add a course\n",
    "            if not departments:\n",
    "                print(\"No departments available. Add a department first.\")\n",
    "                continue\n",
    "            dept_name = input(\"Enter the department for the course: \")\n",
    "            department = next((d for d in departments if d.name == dept_name), None)\n",
    "            if not department:\n",
    "                print(\"Department not found.\")\n",
    "                continue\n",
    "            course_name = input(\"Enter course name: \")\n",
    "            course_code = input(\"Enter course code: \")\n",
    "            course_year = input(\"Enter course year: \")\n",
    "            course_semester = input(\"Enter course semester: \")\n",
    "            course = Course(course_name, course_code, course_year, course_semester)\n",
    "            department.add_course(course)\n",
    "            courses.append(course)\n",
    "            print(f\"Course '{course_name}' added to department '{dept_name}'.\")\n",
    "\n",
    "        elif choice == \"3\":\n",
    "            # Add a student\n",
    "            student_name = input(\"Enter student name: \")\n",
    "            student_roll_no = input(\"Enter student roll number: \")\n",
    "            student = Student(student_name, student_roll_no)\n",
    "            students.append(student)\n",
    "            print(f\"Student '{student_name}' added.\")\n",
    "\n",
    "        elif choice == \"4\":\n",
    "            # Enroll a student in a course\n",
    "            if not students or not courses:\n",
    "                print(\"No students or courses available. Add them first.\")\n",
    "                continue\n",
    "            student_roll_no = input(\"Enter student roll number: \")\n",
    "            student = next((s for s in students if s.roll_no == student_roll_no), None)\n",
    "            if not student:\n",
    "                print(\"Student not found.\")\n",
    "                continue\n",
    "            course_code = input(\"Enter course code: \")\n",
    "            course = next((c for c in courses if c.code == course_code), None)\n",
    "            if not course:\n",
    "                print(\"Course not found.\")\n",
    "                continue\n",
    "            department = next((d for d in departments if course in d.courses), None)\n",
    "            if not department:\n",
    "                print(\"Department for the course not found.\")\n",
    "                continue\n",
    "            enrollment_system.enroll_student(student, course, department)\n",
    "            print(f\"Student '{student.name}' enrolled in course '{course.name}'.\")\n",
    "\n",
    "        elif choice == \"5\":\n",
    "            # Display all enrollments\n",
    "            enrollment_system.display_enrollments()\n",
    "\n",
    "        elif choice == \"6\":\n",
    "            # Exit the program\n",
    "            print(\"Exiting program. Goodbye!\")\n",
    "            break\n",
    "\n",
    "        else:\n",
    "            print(\"Invalid choice. Please try again.\")\n"
   ]
  },
  {
   "cell_type": "code",
   "execution_count": null,
   "id": "0d996191-d30c-48f5-9a4a-7679d19780f4",
   "metadata": {},
   "outputs": [],
   "source": [
    "6\n"
   ]
  }
 ],
 "metadata": {
  "kernelspec": {
   "display_name": "Python 3 (ipykernel)",
   "language": "python",
   "name": "python3"
  },
  "language_info": {
   "codemirror_mode": {
    "name": "ipython",
    "version": 3
   },
   "file_extension": ".py",
   "mimetype": "text/x-python",
   "name": "python",
   "nbconvert_exporter": "python",
   "pygments_lexer": "ipython3",
   "version": "3.11.7"
  }
 },
 "nbformat": 4,
 "nbformat_minor": 5
}
