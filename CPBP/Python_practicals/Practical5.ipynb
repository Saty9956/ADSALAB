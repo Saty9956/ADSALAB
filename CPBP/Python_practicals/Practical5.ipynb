{
 "cells": [
  {
   "cell_type": "code",
   "execution_count": 2,
   "id": "6dc569a0-45a1-4473-aaf8-f3b24ccb2f2a",
   "metadata": {},
   "outputs": [
    {
     "name": "stdout",
     "output_type": "stream",
     "text": [
      "array('i', [1, 2, 3])\n",
      "1 2 3 "
     ]
    }
   ],
   "source": [
    "# Creating array in python\n",
    "import array as arr\n",
    "a = arr.array('i', [1,2,3])\n",
    "print(a)\n",
    "for i in range(0,3):\n",
    "    print(a[i], end=\" \")\n"
   ]
  },
  {
   "cell_type": "code",
   "execution_count": 4,
   "id": "6fb7ff54-7183-432f-8be2-b06b4afa1344",
   "metadata": {},
   "outputs": [
    {
     "name": "stdout",
     "output_type": "stream",
     "text": [
      "Array of integers (Before):  array('i', [1, 2, 3])\n",
      "Array of integers (After Inserting):  array('i', [1, 4, 2, 3])\n",
      "Array of floats (Before):  array('d', [1.0, 2.0, 3.0])\n",
      "Array of floats (After appending):  array('d', [1.0, 2.0, 3.0, 4.4])\n"
     ]
    }
   ],
   "source": [
    "# Demonstrate the functions in arrays like insert(), append()\n",
    "a = arr.array('i', [1,2,3])\n",
    "print(\"Array of integers (Before): \", a)\n",
    "a.insert(1,4)\n",
    "print(\"Array of integers (After Inserting): \",a)\n",
    "b = arr.array('d', [1,2,3])\n",
    "print(\"Array of floats (Before): \", b)\n",
    "b.append(4.4)\n",
    "print(\"Array of floats (After appending): \", b)"
   ]
  },
  {
   "cell_type": "code",
   "execution_count": 6,
   "id": "ed44e58d-7ecd-4bb8-9298-50ab7c3c9039",
   "metadata": {},
   "outputs": [
    {
     "name": "stdout",
     "output_type": "stream",
     "text": [
      "Initial Array: \n",
      "1 2 3 4 5 6 7 8 9 10 \n",
      "Slicing elements in a range 3-8: \n",
      "array('i', [4, 5, 6, 7, 8])\n",
      "\n",
      "Elements sliced from 5th element till the end: \n",
      "array('i', [6, 7, 8, 9, 10])\n",
      "\n",
      "Printing all elements using slice operartion: \n",
      "array('i', [1, 2, 3, 4, 5, 6, 7, 8, 9, 10])\n",
      "1 2 3 1 2 5 \n",
      "After updation\n",
      "1 2 6 1 2 5 "
     ]
    }
   ],
   "source": [
    "# Slicing\n",
    "import array as arr\n",
    "l = [1, 2, 3, 4, 5, 6, 7, 8, 9, 10]\n",
    "a = arr.array('i', l)\n",
    "print(\"Initial Array: \")\n",
    "for i in (a):\n",
    "    print(i, end = \" \")\n",
    "sliced_array = a[3:8]\n",
    "print(\"\\nSlicing elements in a range 3-8: \")\n",
    "print(sliced_array)\n",
    "sliced_array = a[5:]\n",
    "print(\"\\nElements sliced from 5th element till the end: \")\n",
    "print(sliced_array)\n",
    "sliced_array=a[:]\n",
    "print(\"\\nPrinting all elements using slice operartion: \")\n",
    "print(sliced_array)\n",
    "\n",
    "# Array Updation\n",
    "import array\n",
    "arr = array.array('i', [1,2,3,1,2,5])\n",
    "for i in range(0,6):\n",
    "    print(arr[i], end = \" \")\n",
    "print(\"\\nAfter updation\")\n",
    "arr[2]=6\n",
    "for i in range(0,6):\n",
    "    print(arr[i], end=\" \")"
   ]
  },
  {
   "cell_type": "code",
   "execution_count": 8,
   "id": "32df4824-5f6c-4513-9683-aa7951ee4753",
   "metadata": {},
   "outputs": [
    {
     "name": "stdout",
     "output_type": "stream",
     "text": [
      "()\n",
      "('Hello', 'Sam')\n",
      "('Hello', 'Sam')\n",
      "('S', 'a', 'm')\n",
      "(5, 'aiojdio', 7, 'JFidsof')\n",
      "((1, 2, 3), ('a', 'b', 'c'))\n"
     ]
    }
   ],
   "source": [
    "# Create empty tuple: \n",
    "tuple1 = ()\n",
    "print(tuple1)\n",
    "\n",
    "# Create tuple using string: \n",
    "tuple1 = ('Hello', 'Sam')\n",
    "print(tuple1)\n",
    "\n",
    "# Create tuple using list: \n",
    "list1 = ['Hello', 'Sam']\n",
    "print(tuple(list1))\n",
    "\n",
    "# Create a tuple using built-in function: \n",
    "tuple1 = tuple('Sam')\n",
    "print(tuple1)\n",
    "\n",
    "# Creating a tuple with mixed datatypes\n",
    "tuple1 = (5, 'aiojdio', 7, 'JFidsof')\n",
    "print(tuple1)\n",
    "\n",
    "# Nested tuples\n",
    "\n",
    "t1 = (1,2,3)\n",
    "t2 = ('a', 'b', 'c')\n",
    "t3 = (t1, t2)\n",
    "print(t3)"
   ]
  },
  {
   "cell_type": "code",
   "execution_count": 10,
   "id": "8a635377-bb58-4ed1-8cad-9dd924462588",
   "metadata": {},
   "outputs": [
    {
     "name": "stdout",
     "output_type": "stream",
     "text": [
      "('arav', 97, 'B.Sc.')\n",
      "('raghav', 87, 'BCA')\n",
      "The original list of toppers is:  [['Arav', 'MSC', 92], ['Student2', 'MBA', 99], ['Student3', 'MTech', 94], ['Student4', 'BSC', 95]]\n",
      "Enter the metadata you wish to edit: \n",
      "\n",
      "Choose the name of the student you wish to edit the details for. Press\n",
      "0. To edit the details of student Arav\n",
      "1. To edit the details of student Student2\n",
      "2. To edit the details of student Student3\n",
      "3. To edit the details of student Student4\n"
     ]
    },
    {
     "name": "stdin",
     "output_type": "stream",
     "text": [
      "Enter your choice:  0\n"
     ]
    },
    {
     "name": "stdout",
     "output_type": "stream",
     "text": [
      "Press\n",
      "1. To edit the name\n",
      "2. To edit the branch\n",
      "3. To edit the marks\n"
     ]
    },
    {
     "name": "stdin",
     "output_type": "stream",
     "text": [
      "Enter your choice (1/2/3):  1\n",
      "Enter the new name:  Shubham\n"
     ]
    },
    {
     "name": "stdout",
     "output_type": "stream",
     "text": [
      "New list is:  [['Shubham', 'MSC', 92], ['Student2', 'MBA', 99], ['Student3', 'MTech', 94], ['Student4', 'BSC', 95]]\n"
     ]
    }
   ],
   "source": [
    "# Program to demonstrate use of nested tuples\n",
    "\n",
    "Toppers = ((\"arav\", 97, \"B.Sc.\"), (\"raghav\", 87, \"BCA\"))\n",
    "for i in Toppers:\n",
    "    print(i)\n",
    "\n",
    "# WAP that has a nested list to store toppers details. Edit the details and reprint the details.\n",
    "# Eg - l1 = [\"Arav\", \"MSC\", 92]\n",
    "\n",
    "l1 = [[\"Arav\", \"MSC\", 92], [\"Student2\", \"MBA\", 99], [\"Student3\", \"MTech\", 94], [\"Student4\", \"BSC\", 95]]\n",
    "\n",
    "print(\"The original list of toppers is: \", l1)\n",
    "print(\"Enter the metadata you wish to edit: \")\n",
    "print(\"\\nChoose the name of the student you wish to edit the details for. Press\")\n",
    "for i in range(len(l1)):\n",
    "    print(f'{i}. To edit the details of student {l1[i][0]}')\n",
    "ch1 = int(input(\"Enter your choice: \"))\n",
    "\n",
    "print(\"Press\\n1. To edit the name\\n2. To edit the branch\\n3. To edit the marks\")\n",
    "ch2 = int(input(\"Enter your choice (1/2/3): \"))\n",
    "\n",
    "if ch1 not in range(len(l1)):\n",
    "    print(\"Wrong Student index chosen!\")\n",
    "else:\n",
    "\n",
    "    if ch2 == 1:\n",
    "        new_name = input(\"Enter the new name: \")\n",
    "        l1[ch1][0] = new_name\n",
    "    elif ch2 == 1:\n",
    "        new_name = input(\"Enter the new branch: \")\n",
    "        l1[ch1][1] = new_name\n",
    "    elif ch2 == 1:\n",
    "        new_name = input(\"Enter the new marks: \")\n",
    "        l1[ch1][2] = new_name\n",
    "    else:\n",
    "        print(\"Wrong choice entered!\")\n",
    "        \n",
    "    print(\"New list is: \", l1)"
   ]
  },
  {
   "cell_type": "code",
   "execution_count": 12,
   "id": "44ec5473-1fea-47c3-86ec-c0b2f589552e",
   "metadata": {},
   "outputs": [
    {
     "name": "stdout",
     "output_type": "stream",
     "text": [
      "('Sam',)\n",
      "(('Sam',),)\n",
      "((('Sam',),),)\n",
      "(((('Sam',),),),)\n",
      "((((('Sam',),),),),)\n"
     ]
    }
   ],
   "source": [
    "# Creating a tuple using Loop\n",
    "t1 = ('Sam')\n",
    "n = 5\n",
    "for i in range(int(n)):\n",
    "    t1 = (t1,)\n",
    "    print(t1)"
   ]
  },
  {
   "cell_type": "code",
   "execution_count": 14,
   "id": "0db7ce18-2f57-4343-abb7-7ffb4c4469ed",
   "metadata": {},
   "outputs": [
    {
     "name": "stdout",
     "output_type": "stream",
     "text": [
      "Tuple is:  (2, 3)\n",
      "Before swap: \n",
      "Value of a is 2 and value of b is 3\n",
      "After swap: \n",
      "Value of a is 3 and value of b is 2\n"
     ]
    }
   ],
   "source": [
    "# WAP to swap two values using tuple assignment\n",
    "t1 = (2,3)\n",
    "print(\"Tuple is: \", t1)\n",
    "print(\"Before swap: \")\n",
    "a, b = t1\n",
    "print(f'Value of a is {a} and value of b is {b}')\n",
    "print(\"After swap: \")\n",
    "(a, b) = (b, a)\n",
    "print(f'Value of a is {a} and value of b is {b}')"
   ]
  },
  {
   "cell_type": "code",
   "execution_count": 18,
   "id": "4fc6abca-e3f9-4413-9eae-448b60f82699",
   "metadata": {},
   "outputs": [
    {
     "name": "stdin",
     "output_type": "stream",
     "text": [
      "Enter radius:  4\n"
     ]
    },
    {
     "name": "stdout",
     "output_type": "stream",
     "text": [
      "Area is:  50.26548245743669\n",
      "Circumference is:  25.132741228718345\n"
     ]
    }
   ],
   "source": [
    "# WAP using a function that returns the area and circumference of a circle whose radius is passed as an argument\n",
    "import math\n",
    "def func1(r):\n",
    "    area = math.pi * r * r\n",
    "    circum = 2 *math.pi *r\n",
    "    return (area, circum)\n",
    "rad = int(input(\"Enter radius: \"))\n",
    "(ar, circum) = func1(rad)\n",
    "print(\"Area is: \", ar)\n",
    "print(\"Circumference is: \", circum)\n"
   ]
  },
  {
   "cell_type": "code",
   "execution_count": 20,
   "id": "7d64b5a5-a2e6-41d1-b4c5-8a580ed9aac7",
   "metadata": {},
   "outputs": [
    {
     "name": "stdin",
     "output_type": "stream",
     "text": [
      "Enter the email address:  satyarthas.24.ai@nitj.ac.in\n"
     ]
    },
    {
     "name": "stdout",
     "output_type": "stream",
     "text": [
      "('satyarthas.24.ai', 'nitj.ac.in')\n"
     ]
    }
   ],
   "source": [
    "# WAP that scans an email address and forms a tuple of username and domain\n",
    "email = input(\"Enter the email address: \")\n",
    "email = email.split(\"@\")\n",
    "email_tuple = tuple(email)\n",
    "print(email_tuple)"
   ]
  },
  {
   "cell_type": "code",
   "execution_count": null,
   "id": "744695f6-6d24-4601-97bc-8099dc65e2fe",
   "metadata": {},
   "outputs": [],
   "source": []
  }
 ],
 "metadata": {
  "kernelspec": {
   "display_name": "Python 3 (ipykernel)",
   "language": "python",
   "name": "python3"
  },
  "language_info": {
   "codemirror_mode": {
    "name": "ipython",
    "version": 3
   },
   "file_extension": ".py",
   "mimetype": "text/x-python",
   "name": "python",
   "nbconvert_exporter": "python",
   "pygments_lexer": "ipython3",
   "version": "3.11.7"
  }
 },
 "nbformat": 4,
 "nbformat_minor": 5
}
