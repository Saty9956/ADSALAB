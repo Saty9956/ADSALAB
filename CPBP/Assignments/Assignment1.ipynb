{
 "cells": [
  {
   "cell_type": "code",
   "execution_count": 1,
   "id": "df61c889-a797-4bd5-bc0c-0bde9573c6ae",
   "metadata": {},
   "outputs": [
    {
     "name": "stdin",
     "output_type": "stream",
     "text": [
      "Enter the radius of the circle :  45\n"
     ]
    },
    {
     "name": "stdout",
     "output_type": "stream",
     "text": [
      "The area of the circle with radius 45.0 is: 6358.5 \n"
     ]
    }
   ],
   "source": [
    "#Q1.Program to calculate the area of the circle\n",
    "radius = float(input(\"Enter the radius of the circle : \"))\n",
    "area = 3.14 * radius ** 2\n",
    "print(f\"The area of the circle with radius {radius} is: {area} \")"
   ]
  },
  {
   "cell_type": "code",
   "execution_count": 3,
   "id": "59f38064-c93a-48a3-aeeb-95f210b8b4ae",
   "metadata": {},
   "outputs": [
    {
     "name": "stdin",
     "output_type": "stream",
     "text": [
      "Enter a number:  256\n"
     ]
    },
    {
     "name": "stdout",
     "output_type": "stream",
     "text": [
      "The digit at one's place of 256 is: 6\n"
     ]
    }
   ],
   "source": [
    "#Q2.Python program to print the digit at the one's place of a given number\n",
    "num = int(input(\"Enter a number: \"))\n",
    "ones_place_digit = num % 10\n",
    "\n",
    "print(f\"The digit at one's place of {num} is: {ones_place_digit}\")\n"
   ]
  },
  {
   "cell_type": "code",
   "execution_count": 3,
   "id": "0e4c1130-c9b6-41c4-9272-55c8c02c0459",
   "metadata": {},
   "outputs": [
    {
     "name": "stdin",
     "output_type": "stream",
     "text": [
      "Enter the first number:  4\n",
      "Enter the second number:  5\n"
     ]
    },
    {
     "name": "stdout",
     "output_type": "stream",
     "text": [
      "The average of 4.0 and 5.0 is: 4.5\n",
      "The deviation of 4.0 from the average is: -0.5\n",
      "The deviation of 5.0 from the average is: 0.5\n"
     ]
    }
   ],
   "source": [
    "#Q3.Python program to calculate the average of two numbers and then print their deviation from the average\n",
    "num1 = float(input(\"Enter the first number: \"))\n",
    "num2 = float(input(\"Enter the second number: \"))\n",
    "\n",
    "average = (num1 + num2) / 2\n",
    "\n",
    "deviation1 = num1 - average\n",
    "deviation2 = num2 - average\n",
    "\n",
    "print(f\"The average of {num1} and {num2} is: {average}\")\n",
    "print(f\"The deviation of {num1} from the average is: {deviation1}\")\n",
    "print(f\"The deviation of {num2} from the average is: {deviation2}\")"
   ]
  },
  {
   "cell_type": "code",
   "execution_count": 4,
   "id": "898eec3d-6557-4a6c-8f9b-ff4e3ae786f3",
   "metadata": {},
   "outputs": [
    {
     "name": "stdin",
     "output_type": "stream",
     "text": [
      "Enter a float_number:  44.9\n"
     ]
    },
    {
     "name": "stdout",
     "output_type": "stream",
     "text": [
      "The integer value of 44.9 is: 44\n"
     ]
    }
   ],
   "source": [
    "#Q4.Python program to convert a floating-point number to its corresponding integer\n",
    "float_number = float(input(\"Enter a float_number: \"))\n",
    "integer_number = int(float_number)\n",
    "print(f\"The integer value of {float_number} is: {integer_number}\")\n"
   ]
  },
  {
   "cell_type": "code",
   "execution_count": 6,
   "id": "187f1902-fc62-4c4c-83a9-e04e785c5902",
   "metadata": {},
   "outputs": [
    {
     "name": "stdin",
     "output_type": "stream",
     "text": [
      "Enter an integer:  456\n"
     ]
    },
    {
     "name": "stdout",
     "output_type": "stream",
     "text": [
      "The float value of 456 is: 456.0\n"
     ]
    }
   ],
   "source": [
    "#Q5.To convert an integer to its corresponding floating-point number\n",
    "integer_num = int(input(\"Enter an integer: \"))\n",
    "float_num = float(integer_num)\n",
    "print(f\"The float value of {integer_num} is: {float_num}\")"
   ]
  },
  {
   "cell_type": "code",
   "execution_count": 1,
   "id": "6425a656-7e76-4c7e-8400-12fe39904312",
   "metadata": {},
   "outputs": [
    {
     "name": "stdin",
     "output_type": "stream",
     "text": [
      "Enter temperature in Fahrenheit:  97.4\n"
     ]
    },
    {
     "name": "stdout",
     "output_type": "stream",
     "text": [
      "The temperature in Celsius is: 36.33\n"
     ]
    }
   ],
   "source": [
    "#Q6.From Fahrenheit to Celsius\n",
    "fahrenheit = float(input(\"Enter temperature in Fahrenheit: \"))\n",
    "\n",
    "celsius = (fahrenheit - 32) * 5 / 9\n",
    "print(f\"The temperature in Celsius is: {celsius:.2f}\")\n"
   ]
  },
  {
   "cell_type": "code",
   "execution_count": null,
   "id": "e99f1dc6-654b-4e78-bf7a-dfd6176bbf2c",
   "metadata": {},
   "outputs": [],
   "source": []
  }
 ],
 "metadata": {
  "kernelspec": {
   "display_name": "Python 3 (ipykernel)",
   "language": "python",
   "name": "python3"
  },
  "language_info": {
   "codemirror_mode": {
    "name": "ipython",
    "version": 3
   },
   "file_extension": ".py",
   "mimetype": "text/x-python",
   "name": "python",
   "nbconvert_exporter": "python",
   "pygments_lexer": "ipython3",
   "version": "3.11.7"
  }
 },
 "nbformat": 4,
 "nbformat_minor": 5
}
