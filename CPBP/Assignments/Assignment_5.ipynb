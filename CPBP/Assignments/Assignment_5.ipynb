{
 "cells": [
  {
   "cell_type": "code",
   "execution_count": null,
   "id": "72b836a8-b0a3-4d20-961f-9580b0acf4c0",
   "metadata": {},
   "outputs": [],
   "source": [
    "#Q1.WAP that fetches data from a specific URL and print it on screen.\n",
    "import requests\n",
    "from bs4 import BeautifulSoup\n",
    "\n",
    "def fetch_data(url):\n",
    "    response = requests.get(url)\n",
    "    if response.status_code == 200:\n",
    "        soup = BeautifulSoup(response.content, 'lxml')\n",
    "       \n",
    "        text = soup.get_text()\n",
    "        print(text)\n",
    "    else:\n",
    "        print(f\"Failed to fetch data from {url}\")\n",
    "\n",
    "url = input(\"Enter the URL: \")\n",
    "fetch_data(url)\n"
   ]
  },
  {
   "cell_type": "code",
   "execution_count": 10,
   "id": "b8bb4eb4-dc5b-4a1b-ab77-8e93aa3cfd2b",
   "metadata": {},
   "outputs": [
    {
     "name": "stdout",
     "output_type": "stream",
     "text": [
      "Total size: 3523627 bytes\n"
     ]
    }
   ],
   "source": [
    "#Q2.WAP that computes total size of all the files in your current directory folder.\n",
    "import os\n",
    "\n",
    "total_size = 0\n",
    "for dirpath, dirnames, filenames in os.walk(os.getcwd()):\n",
    "    for f in filenames:\n",
    "        fp = os.path.join(dirpath, f)\n",
    "        if os.path.isfile(fp):\n",
    "            total_size += os.path.getsize(fp)\n",
    "\n",
    "print(\"Total size:\", total_size, \"bytes\")"
   ]
  },
  {
   "cell_type": "code",
   "execution_count": 14,
   "id": "90bea353-49e2-4152-996e-b6ebece049bd",
   "metadata": {},
   "outputs": [
    {
     "name": "stdout",
     "output_type": "stream",
     "text": [
      "Line numbers added successfully to output.txt\n"
     ]
    }
   ],
   "source": [
    "#Q3.WAP that reads a file line by line and each line read from the file is copied and to another file with line numbers specified at the beginning of the line.\n",
    "f = open(\"C:\\\\Users\\\\Satyartha Shukla\\\\Desktop\\\\MTech AI\\\\CPBP\\\\director\\\\file1.txt\", \"r\")\n",
    "\n",
    "outfile = open(\"C:\\\\Users\\\\Satyartha Shukla\\\\Desktop\\\\MTech AI\\\\CPBP\\\\director\\\\file2.txt\", \"w\")\n",
    "\n",
    "line_number = 1\n",
    "\n",
    "for line in f:\n",
    "    outfile.write(f\"{line_number}: {line}\")\n",
    "    line_number += 1\n",
    "\n",
    "f.close()\n",
    "outfile.close()\n",
    "\n",
    "print(\"Line numbers added successfully to output.txt\")\n"
   ]
  },
  {
   "cell_type": "code",
   "execution_count": 18,
   "id": "99b5d458-b290-4c6b-aea4-45190161ec75",
   "metadata": {},
   "outputs": [
    {
     "name": "stdout",
     "output_type": "stream",
     "text": [
      "Number of tabs: 0\n",
      "Number of spaces: 138\n",
      "Number of newlines: 3\n"
     ]
    }
   ],
   "source": [
    "#Q4.WAP that counts the number of tabs, spaces and newline characters in a file.\n",
    "file_path = \"C:\\\\Users\\\\Satyartha Shukla\\\\Desktop\\\\MTech AI\\\\CPBP\\\\director\\\\file1.txt\"\n",
    "\n",
    "with open(file_path, \"r\") as file:\n",
    "        tab_count = 0\n",
    "        space_count = 0\n",
    "        newline_count = 0\n",
    "        \n",
    "        for line in file:\n",
    "            tab_count += line.count('\\t')  \n",
    "            space_count += line.count(' ') \n",
    "            newline_count += line.count('\\n')  \n",
    "        \n",
    "        print(f\"Number of tabs: {tab_count}\")\n",
    "        print(f\"Number of spaces: {space_count}\")\n",
    "        print(f\"Number of newlines: {newline_count}\")\n",
    "        "
   ]
  },
  {
   "cell_type": "code",
   "execution_count": 20,
   "id": "59e1cb03-709b-4595-9f39-91dc725857f4",
   "metadata": {},
   "outputs": [
    {
     "name": "stdout",
     "output_type": "stream",
     "text": [
      "Vowel Percentage: 38.96%\n",
      "Consonant Percentage: 61.04%\n"
     ]
    }
   ],
   "source": [
    "#Q5.WAP that reads data from the file and calculates the percentage of vowels and consonants in the file.\n",
    "\n",
    "file_path =\"C:\\\\Users\\\\Satyartha Shukla\\\\Desktop\\\\MTech AI\\\\CPBP\\\\director\\\\file1.txt\"\n",
    "vowel_count = 0\n",
    "consonant_count = 0\n",
    "total_count = 0\n",
    "\n",
    "vowels = \"aeiouAEIOU\"\n",
    "with open(file_path, \"r\") as file:\n",
    "        \n",
    "        for line in file:\n",
    "           \n",
    "            for char in line:\n",
    "                if char.isalpha():\n",
    "                    total_count += 1\n",
    "                    if char in vowels:\n",
    "                            vowel_count += 1\n",
    "                    else:\n",
    "                        consonant_count += 1\n",
    "\n",
    "if total_count > 0:\n",
    "        vowel_percentage = (vowel_count / total_count) * 100\n",
    "        consonant_percentage = (consonant_count / total_count) * 100\n",
    "\n",
    "        print(f\"Vowel Percentage: {vowel_percentage:.2f}%\")\n",
    "        print(f\"Consonant Percentage: {consonant_percentage:.2f}%\")\n",
    "else:\n",
    "        print(\"No alphabetic characters found in the file.\")\n",
    "\n"
   ]
  },
  {
   "cell_type": "raw",
   "id": "2f17d7e5-c21b-45d2-b51a-3bf68a1b13bc",
   "metadata": {},
   "source": [
    "#Q6.What are different access modes in which you can open the file.\n",
    "Answer:\n",
    "What are different access modes in which you can open the file.\n",
    "In Python, you can open files in various modes depending on what you want to do with the file. Here are the different access modes you can use with the open() function:\n",
    "\n",
    "Read Mode\n",
    "'r': Read mode. Opens a file for reading only (default mode). The file pointer is placed at the beginning of the file. If the file does not exist, it raises an FileNotFoundError.\n",
    "\n",
    "Write Mode\n",
    "'w': Write mode. Opens a file for writing only. If the file exists, it truncates the file to zero length (i.e., deletes its contents). If the file does not exist, it creates a new file.\n",
    "\n",
    "Append Mode\n",
    "'a': Append mode. Opens a file for writing. The file pointer is at the end of the file if the file exists. That is, the file is in the append mode. If the file does not exist, it creates a new file.\n",
    "\n",
    "Read and Write Mode\n",
    "'r+': Read and write mode. Opens a file for both reading and writing. The file pointer is placed at the beginning of the file. If the file does not exist, it raises a FileNotFoundError.\n",
    "\n",
    "'w+': Write and read mode. Opens a file for both writing and reading. If the file exists, it truncates the file to zero length. If the file does not exist, it creates a new file.\n",
    "\n",
    "'a+': Append and read mode. Opens a file for both reading and writing. The file pointer is at the end of the file if the file exists. The file opens in the append mode. If the file does not exist, it creates a new file.\n",
    "\n",
    "Binary Mode\n",
    "'b': Binary mode. You can combine this with other modes to specify that a file should be treated as binary. For example:\n",
    "\n",
    "'rb': Read-only binary mode.\n",
    "\n",
    "'wb': Write-only binary mode.\n",
    "\n",
    "'ab': Append-only binary mode.\n",
    "\n",
    "'r+b': Read and write binary mode.\n",
    "\n",
    "'w+b': Write and read binary mode.\n",
    "\n",
    "'a+b': Append and read binary mode.\n",
    "\n",
    "Text Mode\n",
    "'t': Text mode (default mode). You can combine this with other modes to specify that a file should be treated as text. For example:\n",
    "\n",
    "'rt': Read-only text mode.\n",
    "\n",
    "'wt': Write-only text mode.\n",
    "\n",
    "'at': Append-only text mode.\n",
    "\n",
    "In most cases, text mode is the default when opening a file, so you don't need to specify 't' explicitly. However, binary mode can be important when dealing with non-text files like images or executables."
   ]
  },
  {
   "cell_type": "code",
   "execution_count": 22,
   "id": "1db449de-9bdf-4c45-a01f-e24c0d174920",
   "metadata": {},
   "outputs": [
    {
     "name": "stdout",
     "output_type": "stream",
     "text": [
      "hello world. This is a test. The number is [42] and [56]. Check [123].\n"
     ]
    }
   ],
   "source": [
    "#Q7.WAP that writes data to a file in such a way that each character after a full stop is capitalized and all the numbers are written in brackets.\n",
    "import re\n",
    "\n",
    "data = \"hello world. this is a test. the number is 42 and 56. check 123.\"\n",
    "\n",
    "data = re.sub(r'(\\.)(\\s*)([a-z])', lambda m: m.group(1) + m.group(2) + m.group(3).upper(), data)\n",
    "\n",
    "data = re.sub(r'(\\d+)', r'[\\1]', data)\n",
    "\n",
    "with open(\"C:\\\\Users\\\\Satyartha Shukla\\\\Desktop\\\\MTech AI\\\\CPBP\\\\director\\\\file1.txt\", \"w\") as file:\n",
    "    file.write(data)\n",
    "\n",
    "print(data)\n"
   ]
  },
  {
   "cell_type": "code",
   "execution_count": 24,
   "id": "96f0e67b-5264-443d-8820-0f6b106857dd",
   "metadata": {},
   "outputs": [
    {
     "name": "stdout",
     "output_type": "stream",
     "text": [
      "hello world, This is a test, The number is [42] and [56], Check [123],\n"
     ]
    }
   ],
   "source": [
    "#Q8.WAP that reads and copies the contents in another file. While copying replace all full stops with commas.\n",
    "\n",
    "source_file_path = \"C:\\\\Users\\\\Satyartha Shukla\\\\Desktop\\\\MTech AI\\\\CPBP\\\\director\\\\file1.txt\"\n",
    "destination_file_path = \"C:\\\\Users\\\\Satyartha Shukla\\\\Desktop\\\\MTech AI\\\\CPBP\\\\director\\\\file1.txt\"\n",
    "\n",
    "with open(source_file_path, \"r\") as source_file:\n",
    "    content = source_file.read()\n",
    "\n",
    "modified_content = content.replace(\".\", \",\")\n",
    "\n",
    "with open(destination_file_path, \"w\") as destination_file:\n",
    "    destination_file.write(modified_content)\n",
    "\n",
    "print(modified_content)\n"
   ]
  },
  {
   "cell_type": "code",
   "execution_count": null,
   "id": "86084a13-49dc-43a3-897a-a97e9fefec54",
   "metadata": {},
   "outputs": [],
   "source": []
  }
 ],
 "metadata": {
  "kernelspec": {
   "display_name": "Python 3 (ipykernel)",
   "language": "python",
   "name": "python3"
  },
  "language_info": {
   "codemirror_mode": {
    "name": "ipython",
    "version": 3
   },
   "file_extension": ".py",
   "mimetype": "text/x-python",
   "name": "python",
   "nbconvert_exporter": "python",
   "pygments_lexer": "ipython3",
   "version": "3.11.7"
  }
 },
 "nbformat": 4,
 "nbformat_minor": 5
}
