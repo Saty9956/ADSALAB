{
 "cells": [
  {
   "cell_type": "code",
   "execution_count": 1,
   "id": "e5aec6a1-6666-4761-8151-abcd81b2d04e",
   "metadata": {},
   "outputs": [
    {
     "name": "stdin",
     "output_type": "stream",
     "text": [
      "Enter the first number :  45\n",
      "Enter the second number :  56\n",
      "Enter the third number :  89\n"
     ]
    },
    {
     "name": "stdout",
     "output_type": "stream",
     "text": [
      "The greatest number is 89.0\n"
     ]
    }
   ],
   "source": [
    "#question 1:Write a program that finds greatest of three numbers using functions. Pass the numbers as arguments.\n",
    "#Define the function for greatest of three numbers\n",
    "def greatest_number(a,b,c):\n",
    "    #check if 'a' is greater than equal to both 'b' or 'c'\n",
    "    if a>=b and a>=c:\n",
    "        return a\n",
    "    #check if 'b' is greater than equal to both 'a' or 'c'\n",
    "    elif b>=a and b>=c:\n",
    "        return b\n",
    "    #if neither 'a' nor 'b' is the greatest , then 'c' must be greatest\n",
    "    else:\n",
    "        return c\n",
    "#Input : passing numbers as arguments\n",
    "a = float(input(\"Enter the first number : \" ))\n",
    "b = float(input(\"Enter the second number : \" ))\n",
    "c = float(input(\"Enter the third number : \" ))\n",
    "\n",
    "#calling the function & displaying the result \n",
    "greatest = greatest_number(a,b,c)\n",
    "print(\"The greatest number is\", greatest)"
   ]
  },
  {
   "cell_type": "code",
   "execution_count": 2,
   "id": "1a8a5885-45ee-470d-b8e3-7c42bbd1d854",
   "metadata": {},
   "outputs": [
    {
     "name": "stdin",
     "output_type": "stream",
     "text": [
      "Enter the value of n:  5\n",
      "Enter the value of r:  3\n"
     ]
    },
    {
     "name": "stdout",
     "output_type": "stream",
     "text": [
      "60\n",
      "10\n"
     ]
    }
   ],
   "source": [
    "'''question 2 :- Write a program to implement these formulae of permutations and combinations.\n",
    "Number of permutations of n objects taken r at a time: p(n, r) = n! / (n-r)!.\n",
    "Number of combinations of n objects taken r at a time is: c(n, r) = n! / (r!*(n-r)!) =p(n,r) / r!'''\n",
    "\n",
    "import math  # Importing the math module to use the factorial function\n",
    "\n",
    "# Function to calculate permutations nPr\n",
    "def nPr(n, r):\n",
    "    # Calculate nPr using the formula nPr = n! / (n - r)!\n",
    "    return math.factorial(n) // math.factorial(n - r)\n",
    "\n",
    "# Function to calculate combinations nCr\n",
    "def nCr(n, r):\n",
    "    # Calculate nCr using the formula nCr = nPr(n, r) / r!\n",
    "    return nPr(n, r) // math.factorial(r)\n",
    "\n",
    "# Taking input for n (total number of objects)\n",
    "n = int(input(\"Enter the value of n: \"))\n",
    "\n",
    "# Taking input for r (number of objects taken at a time)\n",
    "r = int(input(\"Enter the value of r: \"))\n",
    "\n",
    "# Calling the function to calculate and print the number of permutations (nPr)\n",
    "print(nPr(n, r))\n",
    "\n",
    "# Calling the function to calculate and print the number of combinations (nCr)\n",
    "print(nCr(n, r))"
   ]
  },
  {
   "cell_type": "code",
   "execution_count": 7,
   "id": "02556853-7835-46f5-94bf-e3bfb0e51d7f",
   "metadata": {},
   "outputs": [
    {
     "name": "stdout",
     "output_type": "stream",
     "text": [
      "Is 306 an Armstrong number? False\n",
      "Armstrong numbers between 10 and 456 are:\n",
      "153\n",
      "370\n",
      "371\n",
      "407\n"
     ]
    }
   ],
   "source": [
    "#Question3 \n",
    "# Function to calculate the sum of the cubes of the digits of a number\n",
    "def cubesum(n):\n",
    "    sum = 0\n",
    "    while n > 0:\n",
    "        digit = n % 10\n",
    "        sum += digit ** 3\n",
    "        n //= 10\n",
    "    return sum\n",
    "\n",
    "# Function to check if a number is an Armstrong number\n",
    "def isArmstrong(n):\n",
    "    return n == cubesum(n)\n",
    "\n",
    "# Function to print all Armstrong numbers in a given range\n",
    "def PrintArmstrong(start, end):\n",
    "    for num in range(start, end + 1):\n",
    "        if isArmstrong(num):\n",
    "            print(num)\n",
    "\n",
    "# Example usage\n",
    "number = 306\n",
    "print(\"Is\", number, \"an Armstrong number?\", isArmstrong(number))\n",
    "\n",
    "print(\"Armstrong numbers between 10 and 456 are:\")\n",
    "PrintArmstrong(10, 456)"
   ]
  },
  {
   "cell_type": "code",
   "execution_count": 4,
   "id": "ebf9e56a-b70d-41fe-a896-41653d3980f6",
   "metadata": {},
   "outputs": [
    {
     "name": "stdout",
     "output_type": "stream",
     "text": [
      "[1, 4, 9, 16, 25, 36, 49, 64, 81, 100, 121, 144, 169, 196, 225, 256, 289, 324, 361, 400, 441, 484, 529, 576, 625, 676, 729, 784, 841, 900]\n"
     ]
    }
   ],
   "source": [
    "#Question4:Write a Python function to create and print a list where the values are the squares of numbers between 1 and 30 (both included).\n",
    "def print_squares():\n",
    "    # Create a list to store the squares\n",
    "    squares = [i**2 for i in range(1, 31)]\n",
    "    # Print the list of squares\n",
    "    print(squares)\n",
    "\n",
    "# Call the function to print the squares\n",
    "print_squares()"
   ]
  },
  {
   "cell_type": "code",
   "execution_count": 5,
   "id": "324d6407-9c60-46ef-a0da-02612423dfea",
   "metadata": {},
   "outputs": [
    {
     "name": "stdout",
     "output_type": "stream",
     "text": [
      "The final integer value is: 12345678\n"
     ]
    }
   ],
   "source": [
    "#Question 5 : Given a string s = “1234” and an integer n = 5678, concatenate them as a single string and then convert the result back to an integer. What is the final integer value?\n",
    "# Given values\n",
    "s = \"1234\"\n",
    "n = 5678\n",
    "\n",
    "# Step 1: Convert the integer to a string\n",
    "n_str = str(n)\n",
    "\n",
    "# Step 2: Concatenate the string and the converted integer\n",
    "concatenated_str = s + n_str\n",
    "\n",
    "# Step 3: Convert the concatenated result back to an integer\n",
    "final_integer = int(concatenated_str)\n",
    "\n",
    "# Print the final integer value\n",
    "print(\"The final integer value is:\", final_integer)"
   ]
  },
  {
   "cell_type": "code",
   "execution_count": 11,
   "id": "3f42b8a4-3a90-45cc-bf22-3532a7ade018",
   "metadata": {},
   "outputs": [
    {
     "name": "stdin",
     "output_type": "stream",
     "text": [
      "Please enter a positive integer:  3\n"
     ]
    },
    {
     "name": "stdout",
     "output_type": "stream",
     "text": [
      "Thank you! You entered a positive integer: 3\n"
     ]
    },
    {
     "data": {
      "text/plain": [
       "3"
      ]
     },
     "execution_count": 11,
     "metadata": {},
     "output_type": "execute_result"
    }
   ],
   "source": [
    "#question 6: Write a Python program that repeatedly asks the user to enter a positive integer. If the user enters a negative number or zero, the program should ask again until a positive integer is entered.\n",
    "def get_positive_integer():\n",
    "    while True:\n",
    "        try:\n",
    "            # Ask the user to enter a positive integer\n",
    "            num = int(input(\"Please enter a positive integer: \"))\n",
    "            # Check if the entered number is positive\n",
    "            if num > 0:\n",
    "                print(\"Thank you! You entered a positive integer:\", num)\n",
    "                return num\n",
    "            else:\n",
    "                print(\"The number must be positive. Please try again.\")\n",
    "        except ValueError:\n",
    "            print(\"Invalid input. Please enter a valid integer.\")\n",
    "\n",
    "# Call the function to get a positive integer from the user\n",
    "get_positive_integer()"
   ]
  },
  {
   "cell_type": "code",
   "execution_count": null,
   "id": "ea6628ff-ce0c-41fc-927b-59b70b5c6fb4",
   "metadata": {},
   "outputs": [],
   "source": []
  }
 ],
 "metadata": {
  "kernelspec": {
   "display_name": "Python 3 (ipykernel)",
   "language": "python",
   "name": "python3"
  },
  "language_info": {
   "codemirror_mode": {
    "name": "ipython",
    "version": 3
   },
   "file_extension": ".py",
   "mimetype": "text/x-python",
   "name": "python",
   "nbconvert_exporter": "python",
   "pygments_lexer": "ipython3",
   "version": "3.11.7"
  }
 },
 "nbformat": 4,
 "nbformat_minor": 5
}
