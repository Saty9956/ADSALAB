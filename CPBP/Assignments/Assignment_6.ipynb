{
 "cells": [
  {
   "cell_type": "code",
   "execution_count": 5,
   "id": "791e53d1-7f33-4446-ac36-decaef99598e",
   "metadata": {},
   "outputs": [
    {
     "name": "stdin",
     "output_type": "stream",
     "text": [
      "Enter the numerator:  50\n",
      "Enter the denominator:  25\n"
     ]
    },
    {
     "name": "stdout",
     "output_type": "stream",
     "text": [
      "Simplified Fraction: 2/1\n"
     ]
    }
   ],
   "source": [
    "#Write a program that has a class Fraction with attributes numerator and denominator. Enter the values of the attributes and print the fraction in simplified form.\n",
    "import math\n",
    "\n",
    "class Fraction:\n",
    "    def __init__(self, numerator, denominator):\n",
    "        self.numerator = numerator\n",
    "        self.denominator = denominator\n",
    "        \n",
    "    def simplify(self):\n",
    "        gcd = math.gcd(self.numerator, self.denominator)\n",
    "        self.numerator //= gcd\n",
    "        self.denominator //= gcd\n",
    "        \n",
    "    def display(self):\n",
    "        self.simplify()\n",
    "        print(f\"Simplified Fraction: {self.numerator}/{self.denominator}\")\n",
    "\n",
    "\n",
    "numerator = int(input(\"Enter the numerator: \"))\n",
    "denominator = int(input(\"Enter the denominator: \"))\n",
    "\n",
    "fraction = Fraction(numerator, denominator)\n",
    "fraction.display()"
   ]
  },
  {
   "cell_type": "code",
   "execution_count": 7,
   "id": "ae22d0a2-5a83-4cff-a2ce-91f966744336",
   "metadata": {},
   "outputs": [
    {
     "name": "stdout",
     "output_type": "stream",
     "text": [
      "Product Code | Product Name | Price\n",
      "P001 | Product 1 | 10\n",
      "P002 | Product 2 | 20\n",
      "P003 | Product 3 | 30\n"
     ]
    },
    {
     "name": "stdin",
     "output_type": "stream",
     "text": [
      "Enter product code (or 'exit' to finish):  P001\n",
      "Enter quantity for Product 1:  25\n",
      "Enter product code (or 'exit' to finish):  P003\n",
      "Enter quantity for Product 3:  2\n",
      "Enter product code (or 'exit' to finish):  exit\n"
     ]
    },
    {
     "name": "stdout",
     "output_type": "stream",
     "text": [
      "Total Bill Amount: 310\n"
     ]
    }
   ],
   "source": [
    "\"\"\"Write a program that has a class store which keeps record of code and price of each product.\n",
    "Display a menu of all products to the user and prompt him to enter the quantity of each\n",
    "item required. Generate a bill and display the total amount.\"\"\"\n",
    "\n",
    "class Store:\n",
    "    def __init__(self):\n",
    "        self.products = {\n",
    "            \"P001\": {\"name\": \"Product 1\", \"price\": 10},\n",
    "            \"P002\": {\"name\": \"Product 2\", \"price\": 20},\n",
    "            \"P003\": {\"name\": \"Product 3\", \"price\": 30}\n",
    "        }\n",
    "    \n",
    "    def display_menu(self):\n",
    "        print(\"Product Code | Product Name | Price\")\n",
    "        for code, details in self.products.items():\n",
    "            print(f\"{code} | {details['name']} | {details['price']}\")\n",
    "    \n",
    "    def generate_bill(self):\n",
    "        total_amount = 0\n",
    "        self.display_menu()\n",
    "        \n",
    "        while True:\n",
    "            code = input(\"Enter product code (or 'exit' to finish): \")\n",
    "            if code == 'exit':\n",
    "                break\n",
    "            elif code in self.products:\n",
    "                quantity = int(input(f\"Enter quantity for {self.products[code]['name']}: \"))\n",
    "                total_amount += self.products[code]['price'] * quantity\n",
    "            else:\n",
    "                print(\"Invalid product code.\")\n",
    "        \n",
    "        print(f\"Total Bill Amount: {total_amount}\")\n",
    "\n",
    "# Create Store instance\n",
    "store = Store()\n",
    "store.generate_bill()"
   ]
  },
  {
   "cell_type": "code",
   "execution_count": 5,
   "id": "34a50432-1150-4dcd-a25c-0bf69a9863ce",
   "metadata": {},
   "outputs": [
    {
     "name": "stdin",
     "output_type": "stream",
     "text": [
      "Enter a string:  Satyartha is good boy he comes to class daily\n"
     ]
    },
    {
     "name": "stdout",
     "output_type": "stream",
     "text": [
      "Uppercase Characters: 1\n",
      "Vowels: 14\n",
      "Consonants: 23\n",
      "Spaces: 8\n"
     ]
    }
   ],
   "source": [
    "\"\"\"Write a class that stores a string and all its status details such as number of uppercase\n",
    "characters, vowels, consonants, spaces etc.\"\"\"\n",
    "\n",
    "class String:\n",
    "    def __init__(self, input_string):\n",
    "        self.input_string = input_string\n",
    "        self.uppercase = 0\n",
    "        self.vowels = 0\n",
    "        self.consonants = 0\n",
    "        self.spaces = 0\n",
    "        self.analyze()\n",
    "\n",
    "    def analyze(self):\n",
    "        vowels_set = {'a','e','i','o','u'}\n",
    "        for char in self.input_string:\n",
    "            if char.isupper():\n",
    "                self.uppercase += 1\n",
    "            if char.lower() in vowels_set:\n",
    "                self.vowels += 1\n",
    "            if char.isalpha() and char.lower() not in vowels_set:\n",
    "                self.consonants +=1\n",
    "            if char == ' ' :\n",
    "                self.spaces +=1\n",
    "    def display_status(self):\n",
    "            print(f\"Uppercase Characters: {self.uppercase}\")\n",
    "            print(f\"Vowels: {self.vowels}\")\n",
    "            print(f\"Consonants: {self.consonants}\")\n",
    "            print(f\"Spaces: {self.spaces}\")\n",
    "\n",
    "# Input string\n",
    "input_string = input(\"Enter a string: \")\n",
    "status = String(input_string)\n",
    "status.display_status()"
   ]
  },
  {
   "cell_type": "code",
   "execution_count": 7,
   "id": "b35738cd-3873-40d9-a198-372cfbd92384",
   "metadata": {},
   "outputs": [
    {
     "name": "stdin",
     "output_type": "stream",
     "text": [
      "Enter name:  Satya\n",
      "Enter age:  50\n",
      "Enter department:  PCM\n",
      "Enter publications (comma separated):  theory of relativity in 4D\n"
     ]
    },
    {
     "name": "stdout",
     "output_type": "stream",
     "text": [
      "Name: Satya\n",
      "Age: 50\n",
      "Department: PCM\n",
      "Publications: theory of relativity in 4D\n"
     ]
    }
   ],
   "source": [
    "\"\"\"Write a program that has a class person. Inherit a class Faculty from person which also has\n",
    "class Publications.\"\"\"\n",
    "\n",
    "class Person:\n",
    "    def __init__(self, name, age):\n",
    "        self.name = name\n",
    "        self.age = age\n",
    "\n",
    "    def display_person(self):\n",
    "        print(f\"Name: {self.name}\")\n",
    "        print(f\"Age: {self.age}\")\n",
    "\n",
    "class Faculty(Person):\n",
    "    def __init__(self, name, age, department):\n",
    "        super().__init__(name, age)\n",
    "        self.department = department\n",
    "\n",
    "    def display_faculty(self):\n",
    "        self.display_person()\n",
    "        print(f\"Department: {self.department}\")\n",
    "\n",
    "class Publications(Faculty):\n",
    "    def __init__(self, name, age, department, publications):\n",
    "        super().__init__(name, age, department)\n",
    "        self.publications = publications\n",
    "\n",
    "    def display_publications(self):\n",
    "        self.display_faculty()\n",
    "        print(f\"Publications: {', '.join(self.publications)}\")\n",
    "\n",
    "# Input values\n",
    "name = input(\"Enter name: \")\n",
    "age = int(input(\"Enter age: \"))\n",
    "department = input(\"Enter department: \")\n",
    "publications = input(\"Enter publications (comma separated): \").split(',')\n",
    "\n",
    "faculty_member = Publications(name, age, department, publications)\n",
    "faculty_member.display_publications()"
   ]
  },
  {
   "cell_type": "code",
   "execution_count": 11,
   "id": "8c70403d-e907-4a68-b38c-33063b9ac276",
   "metadata": {},
   "outputs": [
    {
     "name": "stdin",
     "output_type": "stream",
     "text": [
      "Enter a date (YYYY-MM-DD):  2024-08-12\n",
      "Enter number of days to add:  100\n"
     ]
    },
    {
     "name": "stdout",
     "output_type": "stream",
     "text": [
      "Current Date:  2024-11-20\n"
     ]
    }
   ],
   "source": [
    "\"\"\"Write a program that overloads the + operator so that it can add a specified number of days\n",
    "to a given date.\"\"\"\n",
    "from datetime import datetime, timedelta\n",
    "\n",
    "class CustomDate:\n",
    "    def __init__(self, date_str):\n",
    "        self.date = datetime.strptime(date_str, '%Y-%m-%d')\n",
    "\n",
    "    def __add__(self, days):\n",
    "        new_date = self.date + timedelta(days=days)\n",
    "        return CustomDate(new_date.strftime('%Y-%m-%d'))\n",
    "\n",
    "    def display(self):\n",
    "        print(\"Current Date: \", self.date.strftime('%Y-%m-%d'))\n",
    "\n",
    "# Input date and number of days\n",
    "date_str = input(\"Enter a date (YYYY-MM-DD): \")\n",
    "days = int(input(\"Enter number of days to add: \"))\n",
    "\n",
    "custom_date = CustomDate(date_str)\n",
    "new_date = custom_date + days\n",
    "new_date.display()"
   ]
  },
  {
   "cell_type": "code",
   "execution_count": 13,
   "id": "3cc2657b-d5bd-4324-9181-23a2bd3237be",
   "metadata": {},
   "outputs": [
    {
     "name": "stdin",
     "output_type": "stream",
     "text": [
      "Enter first distance (in meters):  100\n",
      "Enter second distance (in meters):  50\n"
     ]
    },
    {
     "name": "stdout",
     "output_type": "stream",
     "text": [
      "Distance: 50 meters\n"
     ]
    }
   ],
   "source": [
    "#Write a program to overload -= operator to subtract two Distance objects\n",
    "class Distance:\n",
    "    def __init__(self, meters):\n",
    "        self.meters = meters\n",
    "    \n",
    "    def __isub__(self, other):\n",
    "        self.meters -= other.meters\n",
    "        return self\n",
    "\n",
    "    def display(self):\n",
    "        print(f\"Distance: {self.meters} meters\")\n",
    "\n",
    "# Input distances\n",
    "distance1 = Distance(int(input(\"Enter first distance (in meters): \")))\n",
    "distance2 = Distance(int(input(\"Enter second distance (in meters): \")))\n",
    "\n",
    "distance1 -= distance2\n",
    "distance1.display()"
   ]
  },
  {
   "cell_type": "code",
   "execution_count": null,
   "id": "6d2283a7-dd62-46aa-a3a4-5bc8d7a9455e",
   "metadata": {},
   "outputs": [],
   "source": []
  }
 ],
 "metadata": {
  "kernelspec": {
   "display_name": "Python 3 (ipykernel)",
   "language": "python",
   "name": "python3"
  },
  "language_info": {
   "codemirror_mode": {
    "name": "ipython",
    "version": 3
   },
   "file_extension": ".py",
   "mimetype": "text/x-python",
   "name": "python",
   "nbconvert_exporter": "python",
   "pygments_lexer": "ipython3",
   "version": "3.11.7"
  }
 },
 "nbformat": 4,
 "nbformat_minor": 5
}
